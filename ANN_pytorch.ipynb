{
 "cells": [
  {
   "cell_type": "code",
   "execution_count": 308,
   "metadata": {
    "colab": {
     "base_uri": "https://localhost:8080/"
    },
    "executionInfo": {
     "elapsed": 2638,
     "status": "ok",
     "timestamp": 1649528316629,
     "user": {
      "displayName": "Hung Phan",
      "userId": "08789553643675768816"
     },
     "user_tz": -420
    },
    "id": "HfZKPDDsHe8I",
    "outputId": "033bfed9-d8db-497c-cf0c-748879ce0dcf"
   },
   "outputs": [
    {
     "name": "stdout",
     "output_type": "stream",
     "text": [
      "Drive already mounted at /content/drive; to attempt to forcibly remount, call drive.mount(\"/content/drive\", force_remount=True).\n"
     ]
    }
   ],
   "source": [
    "from google.colab import drive\n",
    "drive.mount('/content/drive')"
   ]
  },
  {
   "cell_type": "code",
   "execution_count": 309,
   "metadata": {
    "executionInfo": {
     "elapsed": 5,
     "status": "ok",
     "timestamp": 1649528316630,
     "user": {
      "displayName": "Hung Phan",
      "userId": "08789553643675768816"
     },
     "user_tz": -420
    },
    "id": "A2yUBio0HoU2"
   },
   "outputs": [],
   "source": [
    "PATH = \"/content/drive/MyDrive/dataset\"\n"
   ]
  },
  {
   "cell_type": "code",
   "execution_count": 310,
   "metadata": {
    "executionInfo": {
     "elapsed": 4,
     "status": "ok",
     "timestamp": 1649528316630,
     "user": {
      "displayName": "Hung Phan",
      "userId": "08789553643675768816"
     },
     "user_tz": -420
    },
    "id": "lNXsSHgKIMuE"
   },
   "outputs": [],
   "source": [
    "import numpy as np\n",
    "import pandas as pd\n",
    "import gc\n",
    "import matplotlib.pyplot as plt\n",
    "import seaborn as sns\n",
    "import warnings\n",
    "import copy\n",
    "from sklearn.model_selection import StratifiedKFold\n",
    "from sklearn.metrics import precision_recall_curve\n",
    "from sklearn.metrics import classification_report\n",
    "from sklearn import metrics\n",
    "from sklearn.model_selection import train_test_split\n",
    "from sklearn.preprocessing import OneHotEncoder\n",
    "from sklearn.preprocessing import MinMaxScaler\n",
    "from sklearn.impute import SimpleImputer \n",
    "from sklearn import metrics\n",
    "from sklearn.metrics import classification_report\n",
    "from sklearn import metrics\n",
    "from sklearn.ensemble import RandomForestClassifier\n",
    "from sklearn.linear_model import LogisticRegression\n",
    "\n",
    "warnings.simplefilter(action='ignore', category=FutureWarning)\n"
   ]
  },
  {
   "cell_type": "markdown",
   "metadata": {
    "id": "bIM54p3He-fu"
   },
   "source": [
    "# Prepare data"
   ]
  },
  {
   "cell_type": "code",
   "execution_count": 311,
   "metadata": {
    "colab": {
     "base_uri": "https://localhost:8080/"
    },
    "executionInfo": {
     "elapsed": 552,
     "status": "ok",
     "timestamp": 1649528317178,
     "user": {
      "displayName": "Hung Phan",
      "userId": "08789553643675768816"
     },
     "user_tz": -420
    },
    "id": "s5UbDz0RIGTW",
    "outputId": "b584ac02-6589-44b8-d3c9-33d3efb00d25"
   },
   "outputs": [
    {
     "name": "stdout",
     "output_type": "stream",
     "text": [
      "app_train shape (13293, 156)\n",
      "app_test shape (4422, 155)\n"
     ]
    },
    {
     "name": "stderr",
     "output_type": "stream",
     "text": [
      "/usr/local/lib/python3.7/dist-packages/IPython/core/interactiveshell.py:2882: DtypeWarning: Columns (5) have mixed types.Specify dtype option on import or set low_memory=False.\n",
      "  exec(code_obj, self.user_global_ns, self.user_ns)\n"
     ]
    }
   ],
   "source": [
    "app_train = pd.read_csv(PATH + '/train.csv')\n",
    "original_test = pd.read_csv(PATH + '/test.csv')\n",
    "app_test = copy.deepcopy(original_test)\n",
    "print('app_train shape',app_train.shape)\n",
    "print('app_test shape',app_test.shape)"
   ]
  },
  {
   "cell_type": "code",
   "execution_count": 312,
   "metadata": {
    "colab": {
     "base_uri": "https://localhost:8080/"
    },
    "executionInfo": {
     "elapsed": 11,
     "status": "ok",
     "timestamp": 1649528317179,
     "user": {
      "displayName": "Hung Phan",
      "userId": "08789553643675768816"
     },
     "user_tz": -420
    },
    "id": "59txeP_xIN3P",
    "outputId": "6ad49ea7-5e32-4f40-bcdb-6c82ba3d03ea"
   },
   "outputs": [
    {
     "data": {
      "text/plain": [
       "index                                                 0\n",
       "hashed_factory_id                                     0\n",
       "country                                              67\n",
       "hashed_type_of_inspection                            68\n",
       "style_number                                         71\n",
       "                                                     ..\n",
       "factory_product_measurement_minor_defect_rate_60      0\n",
       "factory_product_measurement_minor_defect_rate_90      0\n",
       "factory_product_measurement_minor_defect_rate_120     0\n",
       "factory_product_measurement_minor_defect_rate_150     0\n",
       "label                                                 0\n",
       "Length: 156, dtype: int64"
      ]
     },
     "execution_count": 312,
     "metadata": {},
     "output_type": "execute_result"
    }
   ],
   "source": [
    "app_train.isnull().sum()\n"
   ]
  },
  {
   "cell_type": "code",
   "execution_count": 313,
   "metadata": {
    "colab": {
     "base_uri": "https://localhost:8080/"
    },
    "executionInfo": {
     "elapsed": 8,
     "status": "ok",
     "timestamp": 1649528317180,
     "user": {
      "displayName": "Hung Phan",
      "userId": "08789553643675768816"
     },
     "user_tz": -420
    },
    "id": "iSvexIDSIxSW",
    "outputId": "73be8458-df5f-4622-a7d8-b1d093466766"
   },
   "outputs": [
    {
     "data": {
      "text/plain": [
       "0    12641\n",
       "1      652\n",
       "Name: label, dtype: int64"
      ]
     },
     "execution_count": 313,
     "metadata": {},
     "output_type": "execute_result"
    }
   ],
   "source": [
    "app_train['label'].value_counts()\n"
   ]
  },
  {
   "cell_type": "code",
   "execution_count": 314,
   "metadata": {
    "colab": {
     "base_uri": "https://localhost:8080/",
     "height": 265
    },
    "executionInfo": {
     "elapsed": 526,
     "status": "ok",
     "timestamp": 1649528317701,
     "user": {
      "displayName": "Hung Phan",
      "userId": "08789553643675768816"
     },
     "user_tz": -420
    },
    "id": "wdSsdelVIy2F",
    "outputId": "9d1bd895-1f4e-4d3b-a07d-d53c2668cec1"
   },
   "outputs": [
    {
     "data": {
      "image/png": "[encoded data removed]",
      "text/plain": [
       "<Figure size 432x288 with 1 Axes>"
      ]
     },
     "metadata": {
      "needs_background": "light"
     },
     "output_type": "display_data"
    }
   ],
   "source": [
    "app_train['label'].astype(int).plot.hist();\n"
   ]
  },
  {
   "cell_type": "code",
   "execution_count": 315,
   "metadata": {
    "colab": {
     "base_uri": "https://localhost:8080/"
    },
    "executionInfo": {
     "elapsed": 15,
     "status": "ok",
     "timestamp": 1649528317702,
     "user": {
      "displayName": "Hung Phan",
      "userId": "08789553643675768816"
     },
     "user_tz": -420
    },
    "id": "-b-HnTJJI0Rg",
    "outputId": "0a130a42-bc63-4747-895f-4d3415519e59"
   },
   "outputs": [
    {
     "name": "stdout",
     "output_type": "stream",
     "text": [
      "<class 'pandas.core.frame.DataFrame'>\n",
      "RangeIndex: 13293 entries, 0 to 13292\n",
      "Columns: 156 entries, index to label\n",
      "dtypes: float64(145), int64(2), object(9)\n",
      "memory usage: 15.8+ MB\n"
     ]
    }
   ],
   "source": [
    "app_train.info()"
   ]
  },
  {
   "cell_type": "markdown",
   "metadata": {
    "id": "sC0w5KH4fFNc"
   },
   "source": [
    "# Preprocessing data\n",
    "## Remove columns with unique values "
   ]
  },
  {
   "cell_type": "code",
   "execution_count": 316,
   "metadata": {
    "colab": {
     "base_uri": "https://localhost:8080/"
    },
    "executionInfo": {
     "elapsed": 8,
     "status": "ok",
     "timestamp": 1649528317703,
     "user": {
      "displayName": "Hung Phan",
      "userId": "08789553643675768816"
     },
     "user_tz": -420
    },
    "id": "Aqh6kZgAI2i7",
    "outputId": "02dace1a-5247-411c-ee02-43a9a48c7e73"
   },
   "outputs": [
    {
     "name": "stdout",
     "output_type": "stream",
     "text": [
      "app_train shape: (13293, 115)\n",
      "app_test shape: (4422, 114)\n"
     ]
    }
   ],
   "source": [
    "app_train.drop('index',inplace=True,axis=1)\n",
    "train_unique_columns = []\n",
    "for col in app_train.columns:\n",
    "    if len(app_train[col].unique()) == 1:\n",
    "        train_unique_columns.append(col)\n",
    "        app_train.drop(col,inplace=True,axis=1)\n",
    "app_test.drop('index',inplace=True,axis=1)\n",
    "\n",
    "for col in train_unique_columns:\n",
    "    app_test.drop(col,inplace=True,axis=1)\n",
    "print(\"app_train shape:\", app_train.shape)\n",
    "print(\"app_test shape:\", app_test.shape)"
   ]
  },
  {
   "cell_type": "code",
   "execution_count": 317,
   "metadata": {
    "executionInfo": {
     "elapsed": 6,
     "status": "ok",
     "timestamp": 1649528317703,
     "user": {
      "displayName": "Hung Phan",
      "userId": "08789553643675768816"
     },
     "user_tz": -420
    },
    "id": "MpV-tN_QI3fn"
   },
   "outputs": [],
   "source": [
    "def missing_values_table(df):\n",
    "    mis_val = df.isnull().sum()\n",
    "    mis_val_percent = 100 * df.isnull().sum() / len(df)\n",
    "    mis_val_table = pd.concat([mis_val, mis_val_percent], axis=1)\n",
    "    mis_val_table_ren_columns = mis_val_table.rename(\n",
    "    columns = {0 : 'Missing Values', 1 : '% of Total Values'})\n",
    "    mis_val_table_ren_columns = mis_val_table_ren_columns[\n",
    "        mis_val_table_ren_columns.iloc[:,1] != 0].sort_values(\n",
    "    '% of Total Values', ascending=False).round(1)\n",
    "    print (\"lected dataframe has \" + str(df.shape[1]) + \" columns.\\n\"      \n",
    "        \"There are \" + str(mis_val_table_ren_columns.shape[0]) +\n",
    "          \" columns that have missing values.\")\n",
    "    return mis_val_table_ren_columns"
   ]
  },
  {
   "cell_type": "code",
   "execution_count": 318,
   "metadata": {
    "colab": {
     "base_uri": "https://localhost:8080/",
     "height": 317
    },
    "executionInfo": {
     "elapsed": 542,
     "status": "ok",
     "timestamp": 1649528318240,
     "user": {
      "displayName": "Hung Phan",
      "userId": "08789553643675768816"
     },
     "user_tz": -420
    },
    "id": "Gd0MsaobI4ry",
    "outputId": "f359dbbb-8c91-4029-e32b-8311b1a8d37c"
   },
   "outputs": [
    {
     "name": "stdout",
     "output_type": "stream",
     "text": [
      "app_train missing value\n",
      "lected dataframe has 115 columns.\n",
      "There are 7 columns that have missing values.\n"
     ]
    },
    {
     "data": {
      "text/html": [
       "\n",
       "  <div id=\"df-c4258c68-9470-4966-90d2-c50f617c2396\">\n",
       "    <div class=\"colab-df-container\">\n",
       "      <div>\n",
       "<style scoped>\n",
       "    .dataframe tbody tr th:only-of-type {\n",
       "        vertical-align: middle;\n",
       "    }\n",
       "\n",
       "    .dataframe tbody tr th {\n",
       "        vertical-align: top;\n",
       "    }\n",
       "\n",
       "    .dataframe thead th {\n",
       "        text-align: right;\n",
       "    }\n",
       "</style>\n",
       "<table border=\"1\" class=\"dataframe\">\n",
       "  <thead>\n",
       "    <tr style=\"text-align: right;\">\n",
       "      <th></th>\n",
       "      <th>Missing Values</th>\n",
       "      <th>% of Total Values</th>\n",
       "    </tr>\n",
       "  </thead>\n",
       "  <tbody>\n",
       "    <tr>\n",
       "      <th>style_number</th>\n",
       "      <td>71</td>\n",
       "      <td>0.5</td>\n",
       "    </tr>\n",
       "    <tr>\n",
       "      <th>hashed_product_category</th>\n",
       "      <td>69</td>\n",
       "      <td>0.5</td>\n",
       "    </tr>\n",
       "    <tr>\n",
       "      <th>hashed_type_of_inspection</th>\n",
       "      <td>68</td>\n",
       "      <td>0.5</td>\n",
       "    </tr>\n",
       "    <tr>\n",
       "      <th>country</th>\n",
       "      <td>67</td>\n",
       "      <td>0.5</td>\n",
       "    </tr>\n",
       "    <tr>\n",
       "      <th>brand_number</th>\n",
       "      <td>61</td>\n",
       "      <td>0.5</td>\n",
       "    </tr>\n",
       "    <tr>\n",
       "      <th>item_number</th>\n",
       "      <td>59</td>\n",
       "      <td>0.4</td>\n",
       "    </tr>\n",
       "    <tr>\n",
       "      <th>hashed_product_line</th>\n",
       "      <td>58</td>\n",
       "      <td>0.4</td>\n",
       "    </tr>\n",
       "  </tbody>\n",
       "</table>\n",
       "</div>\n",
       "      <button class=\"colab-df-convert\" onclick=\"convertToInteractive('df-c4258c68-9470-4966-90d2-c50f617c2396')\"\n",
       "              title=\"Convert this dataframe to an interactive table.\"\n",
       "              style=\"display:none;\">\n",
       "        \n",
       "  <svg xmlns=\"http://www.w3.org/2000/svg\" height=\"24px\"viewBox=\"0 0 24 24\"\n",
       "       width=\"24px\">\n",
       "    <path d=\"M0 0h24v24H0V0z\" fill=\"none\"/>\n",
       "    <path d=\"M18.56 5.44l.94 2.06.94-2.06 2.06-.94-2.06-.94-.94-2.06-.94 2.06-2.06.94zm-11 1L8.5 8.5l.94-2.06 2.06-.94-2.06-.94L8.5 2.5l-.94 2.06-2.06.94zm10 10l.94 2.06.94-2.06 2.06-.94-2.06-.94-.94-2.06-.94 2.06-2.06.94z\"/><path d=\"M17.41 7.96l-1.37-1.37c-.4-.4-.92-.59-1.43-.59-.52 0-1.04.2-1.43.59L10.3 9.45l-7.72 7.72c-.78.78-.78 2.05 0 2.83L4 21.41c.39.39.9.59 1.41.59.51 0 1.02-.2 1.41-.59l7.78-7.78 2.81-2.81c.8-.78.8-2.07 0-2.86zM5.41 20L4 18.59l7.72-7.72 1.47 1.35L5.41 20z\"/>\n",
       "  </svg>\n",
       "      </button>\n",
       "      \n",
       "  <style>\n",
       "    .colab-df-container {\n",
       "      display:flex;\n",
       "      flex-wrap:wrap;\n",
       "      gap: 12px;\n",
       "    }\n",
       "\n",
       "    .colab-df-convert {\n",
       "      background-color: #E8F0FE;\n",
       "      border: none;\n",
       "      border-radius: 50%;\n",
       "      cursor: pointer;\n",
       "      display: none;\n",
       "      fill: #1967D2;\n",
       "      height: 32px;\n",
       "      padding: 0 0 0 0;\n",
       "      width: 32px;\n",
       "    }\n",
       "\n",
       "    .colab-df-convert:hover {\n",
       "      background-color: #E2EBFA;\n",
       "      box-shadow: 0px 1px 2px rgba(60, 64, 67, 0.3), 0px 1px 3px 1px rgba(60, 64, 67, 0.15);\n",
       "      fill: #174EA6;\n",
       "    }\n",
       "\n",
       "    [theme=dark] .colab-df-convert {\n",
       "      background-color: #3B4455;\n",
       "      fill: #D2E3FC;\n",
       "    }\n",
       "\n",
       "    [theme=dark] .colab-df-convert:hover {\n",
       "      background-color: #434B5C;\n",
       "      box-shadow: 0px 1px 3px 1px rgba(0, 0, 0, 0.15);\n",
       "      filter: drop-shadow(0px 1px 2px rgba(0, 0, 0, 0.3));\n",
       "      fill: #FFFFFF;\n",
       "    }\n",
       "  </style>\n",
       "\n",
       "      <script>\n",
       "        const buttonEl =\n",
       "          document.querySelector('#df-c4258c68-9470-4966-90d2-c50f617c2396 button.colab-df-convert');\n",
       "        buttonEl.style.display =\n",
       "          google.colab.kernel.accessAllowed ? 'block' : 'none';\n",
       "\n",
       "        async function convertToInteractive(key) {\n",
       "          const element = document.querySelector('#df-c4258c68-9470-4966-90d2-c50f617c2396');\n",
       "          const dataTable =\n",
       "            await google.colab.kernel.invokeFunction('convertToInteractive',\n",
       "                                                     [key], {});\n",
       "          if (!dataTable) return;\n",
       "\n",
       "          const docLinkHtml = 'Like what you see? Visit the ' +\n",
       "            '<a target=\"_blank\" href=https://colab.research.google.com/notebooks/data_table.ipynb>data table notebook</a>'\n",
       "            + ' to learn more about interactive tables.';\n",
       "          element.innerHTML = '';\n",
       "          dataTable['output_type'] = 'display_data';\n",
       "          await google.colab.output.renderOutput(dataTable, element);\n",
       "          const docLink = document.createElement('div');\n",
       "          docLink.innerHTML = docLinkHtml;\n",
       "          element.appendChild(docLink);\n",
       "        }\n",
       "      </script>\n",
       "    </div>\n",
       "  </div>\n",
       "  "
      ],
      "text/plain": [
       "                           Missing Values  % of Total Values\n",
       "style_number                           71                0.5\n",
       "hashed_product_category                69                0.5\n",
       "hashed_type_of_inspection              68                0.5\n",
       "country                                67                0.5\n",
       "brand_number                           61                0.5\n",
       "item_number                            59                0.4\n",
       "hashed_product_line                    58                0.4"
      ]
     },
     "execution_count": 318,
     "metadata": {},
     "output_type": "execute_result"
    }
   ],
   "source": [
    "print(\"app_train missing value\")\n",
    "missing_values = missing_values_table(app_train)\n",
    "missing_values.head(20)\n",
    "\n"
   ]
  },
  {
   "cell_type": "code",
   "execution_count": 319,
   "metadata": {
    "colab": {
     "base_uri": "https://localhost:8080/",
     "height": 317
    },
    "executionInfo": {
     "elapsed": 41,
     "status": "ok",
     "timestamp": 1649528318240,
     "user": {
      "displayName": "Hung Phan",
      "userId": "08789553643675768816"
     },
     "user_tz": -420
    },
    "id": "_5csjCJ-I5zD",
    "outputId": "c2934b17-7376-40b8-cfe7-f3da2270e8e8"
   },
   "outputs": [
    {
     "name": "stdout",
     "output_type": "stream",
     "text": [
      "app_test missing value\n",
      "lected dataframe has 114 columns.\n",
      "There are 7 columns that have missing values.\n"
     ]
    },
    {
     "data": {
      "text/html": [
       "\n",
       "  <div id=\"df-a1d4b196-38fb-4949-94c4-07d9fc6acabe\">\n",
       "    <div class=\"colab-df-container\">\n",
       "      <div>\n",
       "<style scoped>\n",
       "    .dataframe tbody tr th:only-of-type {\n",
       "        vertical-align: middle;\n",
       "    }\n",
       "\n",
       "    .dataframe tbody tr th {\n",
       "        vertical-align: top;\n",
       "    }\n",
       "\n",
       "    .dataframe thead th {\n",
       "        text-align: right;\n",
       "    }\n",
       "</style>\n",
       "<table border=\"1\" class=\"dataframe\">\n",
       "  <thead>\n",
       "    <tr style=\"text-align: right;\">\n",
       "      <th></th>\n",
       "      <th>Missing Values</th>\n",
       "      <th>% of Total Values</th>\n",
       "    </tr>\n",
       "  </thead>\n",
       "  <tbody>\n",
       "    <tr>\n",
       "      <th>hashed_product_line</th>\n",
       "      <td>27</td>\n",
       "      <td>0.6</td>\n",
       "    </tr>\n",
       "    <tr>\n",
       "      <th>hashed_type_of_inspection</th>\n",
       "      <td>24</td>\n",
       "      <td>0.5</td>\n",
       "    </tr>\n",
       "    <tr>\n",
       "      <th>brand_number</th>\n",
       "      <td>22</td>\n",
       "      <td>0.5</td>\n",
       "    </tr>\n",
       "    <tr>\n",
       "      <th>item_number</th>\n",
       "      <td>21</td>\n",
       "      <td>0.5</td>\n",
       "    </tr>\n",
       "    <tr>\n",
       "      <th>style_number</th>\n",
       "      <td>19</td>\n",
       "      <td>0.4</td>\n",
       "    </tr>\n",
       "    <tr>\n",
       "      <th>country</th>\n",
       "      <td>18</td>\n",
       "      <td>0.4</td>\n",
       "    </tr>\n",
       "    <tr>\n",
       "      <th>hashed_product_category</th>\n",
       "      <td>18</td>\n",
       "      <td>0.4</td>\n",
       "    </tr>\n",
       "  </tbody>\n",
       "</table>\n",
       "</div>\n",
       "      <button class=\"colab-df-convert\" onclick=\"convertToInteractive('df-a1d4b196-38fb-4949-94c4-07d9fc6acabe')\"\n",
       "              title=\"Convert this dataframe to an interactive table.\"\n",
       "              style=\"display:none;\">\n",
       "        \n",
       "  <svg xmlns=\"http://www.w3.org/2000/svg\" height=\"24px\"viewBox=\"0 0 24 24\"\n",
       "       width=\"24px\">\n",
       "    <path d=\"M0 0h24v24H0V0z\" fill=\"none\"/>\n",
       "    <path d=\"M18.56 5.44l.94 2.06.94-2.06 2.06-.94-2.06-.94-.94-2.06-.94 2.06-2.06.94zm-11 1L8.5 8.5l.94-2.06 2.06-.94-2.06-.94L8.5 2.5l-.94 2.06-2.06.94zm10 10l.94 2.06.94-2.06 2.06-.94-2.06-.94-.94-2.06-.94 2.06-2.06.94z\"/><path d=\"M17.41 7.96l-1.37-1.37c-.4-.4-.92-.59-1.43-.59-.52 0-1.04.2-1.43.59L10.3 9.45l-7.72 7.72c-.78.78-.78 2.05 0 2.83L4 21.41c.39.39.9.59 1.41.59.51 0 1.02-.2 1.41-.59l7.78-7.78 2.81-2.81c.8-.78.8-2.07 0-2.86zM5.41 20L4 18.59l7.72-7.72 1.47 1.35L5.41 20z\"/>\n",
       "  </svg>\n",
       "      </button>\n",
       "      \n",
       "  <style>\n",
       "    .colab-df-container {\n",
       "      display:flex;\n",
       "      flex-wrap:wrap;\n",
       "      gap: 12px;\n",
       "    }\n",
       "\n",
       "    .colab-df-convert {\n",
       "      background-color: #E8F0FE;\n",
       "      border: none;\n",
       "      border-radius: 50%;\n",
       "      cursor: pointer;\n",
       "      display: none;\n",
       "      fill: #1967D2;\n",
       "      height: 32px;\n",
       "      padding: 0 0 0 0;\n",
       "      width: 32px;\n",
       "    }\n",
       "\n",
       "    .colab-df-convert:hover {\n",
       "      background-color: #E2EBFA;\n",
       "      box-shadow: 0px 1px 2px rgba(60, 64, 67, 0.3), 0px 1px 3px 1px rgba(60, 64, 67, 0.15);\n",
       "      fill: #174EA6;\n",
       "    }\n",
       "\n",
       "    [theme=dark] .colab-df-convert {\n",
       "      background-color: #3B4455;\n",
       "      fill: #D2E3FC;\n",
       "    }\n",
       "\n",
       "    [theme=dark] .colab-df-convert:hover {\n",
       "      background-color: #434B5C;\n",
       "      box-shadow: 0px 1px 3px 1px rgba(0, 0, 0, 0.15);\n",
       "      filter: drop-shadow(0px 1px 2px rgba(0, 0, 0, 0.3));\n",
       "      fill: #FFFFFF;\n",
       "    }\n",
       "  </style>\n",
       "\n",
       "      <script>\n",
       "        const buttonEl =\n",
       "          document.querySelector('#df-a1d4b196-38fb-4949-94c4-07d9fc6acabe button.colab-df-convert');\n",
       "        buttonEl.style.display =\n",
       "          google.colab.kernel.accessAllowed ? 'block' : 'none';\n",
       "\n",
       "        async function convertToInteractive(key) {\n",
       "          const element = document.querySelector('#df-a1d4b196-38fb-4949-94c4-07d9fc6acabe');\n",
       "          const dataTable =\n",
       "            await google.colab.kernel.invokeFunction('convertToInteractive',\n",
       "                                                     [key], {});\n",
       "          if (!dataTable) return;\n",
       "\n",
       "          const docLinkHtml = 'Like what you see? Visit the ' +\n",
       "            '<a target=\"_blank\" href=https://colab.research.google.com/notebooks/data_table.ipynb>data table notebook</a>'\n",
       "            + ' to learn more about interactive tables.';\n",
       "          element.innerHTML = '';\n",
       "          dataTable['output_type'] = 'display_data';\n",
       "          await google.colab.output.renderOutput(dataTable, element);\n",
       "          const docLink = document.createElement('div');\n",
       "          docLink.innerHTML = docLinkHtml;\n",
       "          element.appendChild(docLink);\n",
       "        }\n",
       "      </script>\n",
       "    </div>\n",
       "  </div>\n",
       "  "
      ],
      "text/plain": [
       "                           Missing Values  % of Total Values\n",
       "hashed_product_line                    27                0.6\n",
       "hashed_type_of_inspection              24                0.5\n",
       "brand_number                           22                0.5\n",
       "item_number                            21                0.5\n",
       "style_number                           19                0.4\n",
       "country                                18                0.4\n",
       "hashed_product_category                18                0.4"
      ]
     },
     "execution_count": 319,
     "metadata": {},
     "output_type": "execute_result"
    }
   ],
   "source": [
    "print(\"app_test missing value\")\n",
    "missing_values = missing_values_table(app_test)\n",
    "missing_values.head(20)\n",
    "\n"
   ]
  },
  {
   "cell_type": "code",
   "execution_count": 320,
   "metadata": {
    "executionInfo": {
     "elapsed": 30,
     "status": "ok",
     "timestamp": 1649528318241,
     "user": {
      "displayName": "Hung Phan",
      "userId": "08789553643675768816"
     },
     "user_tz": -420
    },
    "id": "wBWOtB-_I7Il"
   },
   "outputs": [],
   "source": [
    "catagory_features_keep_min_freequency_from_visualize = {'country': 5,\n",
    " 'hashed_factory_id': 1,\n",
    " 'hashed_type_of_inspection': 134,\n",
    " 'style_number': 2,\n",
    " 'item_number': 2,\n",
    " 'brand_number': 5,\n",
    " 'hashed_product_line': 7,\n",
    " 'hashed_product_category': 3,\n",
    " 'hashed_product_id': 1}"
   ]
  },
  {
   "cell_type": "markdown",
   "metadata": {
    "id": "655VPES4kdr3"
   },
   "source": [
    "## Fill NAN values and remove the values with a frequency smaller threshold and assign them with other class"
   ]
  },
  {
   "cell_type": "code",
   "execution_count": 321,
   "metadata": {
    "colab": {
     "base_uri": "https://localhost:8080/"
    },
    "executionInfo": {
     "elapsed": 2334,
     "status": "ok",
     "timestamp": 1649528320546,
     "user": {
      "displayName": "Hung Phan",
      "userId": "08789553643675768816"
     },
     "user_tz": -420
    },
    "id": "yRuuARt3I8sO",
    "outputId": "721ef395-43fc-4b38-e5f2-9e97a0f70b5b"
   },
   "outputs": [
    {
     "name": "stderr",
     "output_type": "stream",
     "text": [
      "/usr/local/lib/python3.7/dist-packages/ipykernel_launcher.py:12: SettingWithCopyWarning: \n",
      "A value is trying to be set on a copy of a slice from a DataFrame\n",
      "\n",
      "See the caveats in the documentation: https://pandas.pydata.org/pandas-docs/stable/user_guide/indexing.html#returning-a-view-versus-a-copy\n",
      "  if sys.path[0] == '':\n",
      "/usr/local/lib/python3.7/dist-packages/ipykernel_launcher.py:16: SettingWithCopyWarning: \n",
      "A value is trying to be set on a copy of a slice from a DataFrame\n",
      "\n",
      "See the caveats in the documentation: https://pandas.pydata.org/pandas-docs/stable/user_guide/indexing.html#returning-a-view-versus-a-copy\n",
      "  app.launch_new_instance()\n"
     ]
    }
   ],
   "source": [
    "missing_value_in_columns = missing_values.index.to_list()\n",
    "for idx,column in enumerate(missing_value_in_columns):    \n",
    "    app_train[column] = app_train[column].fillna('Unknown')\n",
    "    app_test[column] = app_test[column].fillna('Unknown')\n",
    "#     app_train[column] = app_train[column].fillna(app_train[column].value_counts().index[0])\n",
    "#     app_test[column] = app_test[column].fillna(app_test[column].value_counts().index[0])\n",
    "    # use_values = (app_train[column].value_counts().loc[lambda x : x>catagory_features_keep_min_freequency_from_visualize[column]]).index.tolist()\n",
    "    use_values = (app_train[column].value_counts().loc[lambda x : x>8]).index.tolist()\n",
    "    for i in range(app_train.shape[0]):\n",
    "        if app_train[column][i] not in use_values:\n",
    "            if app_train[column][i] != 'Unknown':\n",
    "                app_train[column][i] = 'Other' + str(idx)\n",
    "    for i in range(app_test.shape[0]):\n",
    "        if app_test[column][i] not in use_values:\n",
    "            if app_test[column][i] != 'Unknown':\n",
    "                app_test[column][i] = 'Other' + str(idx)\n"
   ]
  },
  {
   "cell_type": "code",
   "execution_count": 322,
   "metadata": {
    "colab": {
     "base_uri": "https://localhost:8080/",
     "height": 517
    },
    "executionInfo": {
     "elapsed": 16,
     "status": "ok",
     "timestamp": 1649528320550,
     "user": {
      "displayName": "Hung Phan",
      "userId": "08789553643675768816"
     },
     "user_tz": -420
    },
    "id": "2WC6mDGLI9m5",
    "outputId": "818f7997-b4aa-4ccc-8977-b2063ce84a2e"
   },
   "outputs": [
    {
     "name": "stdout",
     "output_type": "stream",
     "text": [
      "lected dataframe has 115 columns.\n",
      "There are 0 columns that have missing values.\n"
     ]
    },
    {
     "data": {
      "text/html": [
       "\n",
       "  <div id=\"df-660585a0-2f69-4e85-84b5-edcaf46204e7\">\n",
       "    <div class=\"colab-df-container\">\n",
       "      <div>\n",
       "<style scoped>\n",
       "    .dataframe tbody tr th:only-of-type {\n",
       "        vertical-align: middle;\n",
       "    }\n",
       "\n",
       "    .dataframe tbody tr th {\n",
       "        vertical-align: top;\n",
       "    }\n",
       "\n",
       "    .dataframe thead th {\n",
       "        text-align: right;\n",
       "    }\n",
       "</style>\n",
       "<table border=\"1\" class=\"dataframe\">\n",
       "  <thead>\n",
       "    <tr style=\"text-align: right;\">\n",
       "      <th></th>\n",
       "      <th>hashed_factory_id</th>\n",
       "      <th>country</th>\n",
       "      <th>hashed_type_of_inspection</th>\n",
       "      <th>style_number</th>\n",
       "      <th>item_number</th>\n",
       "      <th>brand_number</th>\n",
       "      <th>factory_inspection_fail_rate_30</th>\n",
       "      <th>factory_inspection_fail_rate_60</th>\n",
       "      <th>factory_inspection_fail_rate_90</th>\n",
       "      <th>factory_inspection_fail_rate_120</th>\n",
       "      <th>...</th>\n",
       "      <th>factory_product_packaging_major_defect_rate_60</th>\n",
       "      <th>factory_product_packaging_major_defect_rate_90</th>\n",
       "      <th>factory_product_packaging_major_defect_rate_120</th>\n",
       "      <th>factory_product_packaging_major_defect_rate_150</th>\n",
       "      <th>factory_product_packaging_minor_defect_rate_30</th>\n",
       "      <th>factory_product_packaging_minor_defect_rate_60</th>\n",
       "      <th>factory_product_packaging_minor_defect_rate_90</th>\n",
       "      <th>factory_product_packaging_minor_defect_rate_120</th>\n",
       "      <th>factory_product_packaging_minor_defect_rate_150</th>\n",
       "      <th>label</th>\n",
       "    </tr>\n",
       "  </thead>\n",
       "  <tbody>\n",
       "    <tr>\n",
       "      <th>0</th>\n",
       "      <td>009f006e3799f9fe96a0c95e944df3e669f02d4e</td>\n",
       "      <td>Vietnam</td>\n",
       "      <td>e06d28d1365467625ebfa999328501705a3398bb</td>\n",
       "      <td>1</td>\n",
       "      <td>8</td>\n",
       "      <td>1.0</td>\n",
       "      <td>0.000000</td>\n",
       "      <td>0.032258</td>\n",
       "      <td>0.028571</td>\n",
       "      <td>0.027778</td>\n",
       "      <td>...</td>\n",
       "      <td>0.004545</td>\n",
       "      <td>0.004545</td>\n",
       "      <td>0.004545</td>\n",
       "      <td>0.004545</td>\n",
       "      <td>0.0</td>\n",
       "      <td>0.0</td>\n",
       "      <td>0.0</td>\n",
       "      <td>0.0</td>\n",
       "      <td>0.0</td>\n",
       "      <td>0</td>\n",
       "    </tr>\n",
       "    <tr>\n",
       "      <th>1</th>\n",
       "      <td>a9f2640fbd054cb52bf9411b7a42f668a9613197</td>\n",
       "      <td>Vietnam</td>\n",
       "      <td>e06d28d1365467625ebfa999328501705a3398bb</td>\n",
       "      <td>1</td>\n",
       "      <td>5</td>\n",
       "      <td>1.0</td>\n",
       "      <td>0.000000</td>\n",
       "      <td>0.200000</td>\n",
       "      <td>0.035714</td>\n",
       "      <td>0.020408</td>\n",
       "      <td>...</td>\n",
       "      <td>0.000000</td>\n",
       "      <td>0.000000</td>\n",
       "      <td>0.000000</td>\n",
       "      <td>0.000000</td>\n",
       "      <td>0.0</td>\n",
       "      <td>0.0</td>\n",
       "      <td>0.0</td>\n",
       "      <td>0.0</td>\n",
       "      <td>0.0</td>\n",
       "      <td>0</td>\n",
       "    </tr>\n",
       "    <tr>\n",
       "      <th>2</th>\n",
       "      <td>c0bffcf0318c483b2dbb1c56bed6efa58f9717bd</td>\n",
       "      <td>Pakistan</td>\n",
       "      <td>e06d28d1365467625ebfa999328501705a3398bb</td>\n",
       "      <td>1</td>\n",
       "      <td>8</td>\n",
       "      <td>Unknown</td>\n",
       "      <td>0.000000</td>\n",
       "      <td>0.000000</td>\n",
       "      <td>0.000000</td>\n",
       "      <td>0.000000</td>\n",
       "      <td>...</td>\n",
       "      <td>0.000444</td>\n",
       "      <td>0.000400</td>\n",
       "      <td>0.000400</td>\n",
       "      <td>0.000400</td>\n",
       "      <td>0.0</td>\n",
       "      <td>0.0</td>\n",
       "      <td>0.0</td>\n",
       "      <td>0.0</td>\n",
       "      <td>0.0</td>\n",
       "      <td>0</td>\n",
       "    </tr>\n",
       "    <tr>\n",
       "      <th>3</th>\n",
       "      <td>c96f3f1c47dca83af551893a28c3409cb4afd31d</td>\n",
       "      <td>Guatemala</td>\n",
       "      <td>e06d28d1365467625ebfa999328501705a3398bb</td>\n",
       "      <td>2</td>\n",
       "      <td>12</td>\n",
       "      <td>1.0</td>\n",
       "      <td>0.000000</td>\n",
       "      <td>0.000000</td>\n",
       "      <td>0.000000</td>\n",
       "      <td>0.000000</td>\n",
       "      <td>...</td>\n",
       "      <td>0.000000</td>\n",
       "      <td>0.000000</td>\n",
       "      <td>0.000000</td>\n",
       "      <td>0.000000</td>\n",
       "      <td>0.0</td>\n",
       "      <td>0.0</td>\n",
       "      <td>0.0</td>\n",
       "      <td>0.0</td>\n",
       "      <td>0.0</td>\n",
       "      <td>0</td>\n",
       "    </tr>\n",
       "    <tr>\n",
       "      <th>4</th>\n",
       "      <td>63ffdba896c8bb150eca939d1eb7e3bd4e732ed4</td>\n",
       "      <td>Pakistan</td>\n",
       "      <td>e06d28d1365467625ebfa999328501705a3398bb</td>\n",
       "      <td>1</td>\n",
       "      <td>2</td>\n",
       "      <td>1.0</td>\n",
       "      <td>0.000000</td>\n",
       "      <td>0.000000</td>\n",
       "      <td>0.000000</td>\n",
       "      <td>0.100000</td>\n",
       "      <td>...</td>\n",
       "      <td>0.000000</td>\n",
       "      <td>0.000000</td>\n",
       "      <td>0.000000</td>\n",
       "      <td>0.000000</td>\n",
       "      <td>0.0</td>\n",
       "      <td>0.0</td>\n",
       "      <td>0.0</td>\n",
       "      <td>0.0</td>\n",
       "      <td>0.0</td>\n",
       "      <td>0</td>\n",
       "    </tr>\n",
       "    <tr>\n",
       "      <th>...</th>\n",
       "      <td>...</td>\n",
       "      <td>...</td>\n",
       "      <td>...</td>\n",
       "      <td>...</td>\n",
       "      <td>...</td>\n",
       "      <td>...</td>\n",
       "      <td>...</td>\n",
       "      <td>...</td>\n",
       "      <td>...</td>\n",
       "      <td>...</td>\n",
       "      <td>...</td>\n",
       "      <td>...</td>\n",
       "      <td>...</td>\n",
       "      <td>...</td>\n",
       "      <td>...</td>\n",
       "      <td>...</td>\n",
       "      <td>...</td>\n",
       "      <td>...</td>\n",
       "      <td>...</td>\n",
       "      <td>...</td>\n",
       "      <td>...</td>\n",
       "    </tr>\n",
       "    <tr>\n",
       "      <th>13288</th>\n",
       "      <td>009f006e3799f9fe96a0c95e944df3e669f02d4e</td>\n",
       "      <td>Vietnam</td>\n",
       "      <td>e06d28d1365467625ebfa999328501705a3398bb</td>\n",
       "      <td>1</td>\n",
       "      <td>15</td>\n",
       "      <td>1.0</td>\n",
       "      <td>0.000000</td>\n",
       "      <td>0.000000</td>\n",
       "      <td>0.022222</td>\n",
       "      <td>0.021277</td>\n",
       "      <td>...</td>\n",
       "      <td>0.000000</td>\n",
       "      <td>0.000000</td>\n",
       "      <td>0.000000</td>\n",
       "      <td>0.000000</td>\n",
       "      <td>0.0</td>\n",
       "      <td>0.0</td>\n",
       "      <td>0.0</td>\n",
       "      <td>0.0</td>\n",
       "      <td>0.0</td>\n",
       "      <td>0</td>\n",
       "    </tr>\n",
       "    <tr>\n",
       "      <th>13289</th>\n",
       "      <td>9213adcfaa233c1bd362eeaaef15269b1f15afe1</td>\n",
       "      <td>Nicaragua</td>\n",
       "      <td>e06d28d1365467625ebfa999328501705a3398bb</td>\n",
       "      <td>1</td>\n",
       "      <td>18</td>\n",
       "      <td>1.0</td>\n",
       "      <td>0.015385</td>\n",
       "      <td>0.009174</td>\n",
       "      <td>0.012195</td>\n",
       "      <td>0.010870</td>\n",
       "      <td>...</td>\n",
       "      <td>0.000000</td>\n",
       "      <td>0.000000</td>\n",
       "      <td>0.000000</td>\n",
       "      <td>0.000000</td>\n",
       "      <td>0.0</td>\n",
       "      <td>0.0</td>\n",
       "      <td>0.0</td>\n",
       "      <td>0.0</td>\n",
       "      <td>0.0</td>\n",
       "      <td>0</td>\n",
       "    </tr>\n",
       "    <tr>\n",
       "      <th>13290</th>\n",
       "      <td>5a06094857c4e9b5bd124cf37a6e7d336bb8edd4</td>\n",
       "      <td>Cambodia</td>\n",
       "      <td>e06d28d1365467625ebfa999328501705a3398bb</td>\n",
       "      <td>3</td>\n",
       "      <td>20</td>\n",
       "      <td>1.0</td>\n",
       "      <td>0.071429</td>\n",
       "      <td>0.053571</td>\n",
       "      <td>0.045977</td>\n",
       "      <td>0.039604</td>\n",
       "      <td>...</td>\n",
       "      <td>0.000000</td>\n",
       "      <td>0.000000</td>\n",
       "      <td>0.000000</td>\n",
       "      <td>0.000000</td>\n",
       "      <td>0.0</td>\n",
       "      <td>0.0</td>\n",
       "      <td>0.0</td>\n",
       "      <td>0.0</td>\n",
       "      <td>0.0</td>\n",
       "      <td>0</td>\n",
       "    </tr>\n",
       "    <tr>\n",
       "      <th>13291</th>\n",
       "      <td>a9f2640fbd054cb52bf9411b7a42f668a9613197</td>\n",
       "      <td>Vietnam</td>\n",
       "      <td>e06d28d1365467625ebfa999328501705a3398bb</td>\n",
       "      <td>9</td>\n",
       "      <td>33</td>\n",
       "      <td>1.0</td>\n",
       "      <td>0.000000</td>\n",
       "      <td>0.000000</td>\n",
       "      <td>0.023529</td>\n",
       "      <td>0.018868</td>\n",
       "      <td>...</td>\n",
       "      <td>0.000000</td>\n",
       "      <td>0.000000</td>\n",
       "      <td>0.000000</td>\n",
       "      <td>0.000000</td>\n",
       "      <td>0.0</td>\n",
       "      <td>0.0</td>\n",
       "      <td>0.0</td>\n",
       "      <td>0.0</td>\n",
       "      <td>0.0</td>\n",
       "      <td>0</td>\n",
       "    </tr>\n",
       "    <tr>\n",
       "      <th>13292</th>\n",
       "      <td>a9f2640fbd054cb52bf9411b7a42f668a9613197</td>\n",
       "      <td>Vietnam</td>\n",
       "      <td>e06d28d1365467625ebfa999328501705a3398bb</td>\n",
       "      <td>9</td>\n",
       "      <td>33</td>\n",
       "      <td>1.0</td>\n",
       "      <td>0.000000</td>\n",
       "      <td>0.000000</td>\n",
       "      <td>0.023529</td>\n",
       "      <td>0.018868</td>\n",
       "      <td>...</td>\n",
       "      <td>0.000000</td>\n",
       "      <td>0.000000</td>\n",
       "      <td>0.000740</td>\n",
       "      <td>0.000740</td>\n",
       "      <td>0.0</td>\n",
       "      <td>0.0</td>\n",
       "      <td>0.0</td>\n",
       "      <td>0.0</td>\n",
       "      <td>0.0</td>\n",
       "      <td>1</td>\n",
       "    </tr>\n",
       "  </tbody>\n",
       "</table>\n",
       "<p>13293 rows × 115 columns</p>\n",
       "</div>\n",
       "      <button class=\"colab-df-convert\" onclick=\"convertToInteractive('df-660585a0-2f69-4e85-84b5-edcaf46204e7')\"\n",
       "              title=\"Convert this dataframe to an interactive table.\"\n",
       "              style=\"display:none;\">\n",
       "        \n",
       "  <svg xmlns=\"http://www.w3.org/2000/svg\" height=\"24px\"viewBox=\"0 0 24 24\"\n",
       "       width=\"24px\">\n",
       "    <path d=\"M0 0h24v24H0V0z\" fill=\"none\"/>\n",
       "    <path d=\"M18.56 5.44l.94 2.06.94-2.06 2.06-.94-2.06-.94-.94-2.06-.94 2.06-2.06.94zm-11 1L8.5 8.5l.94-2.06 2.06-.94-2.06-.94L8.5 2.5l-.94 2.06-2.06.94zm10 10l.94 2.06.94-2.06 2.06-.94-2.06-.94-.94-2.06-.94 2.06-2.06.94z\"/><path d=\"M17.41 7.96l-1.37-1.37c-.4-.4-.92-.59-1.43-.59-.52 0-1.04.2-1.43.59L10.3 9.45l-7.72 7.72c-.78.78-.78 2.05 0 2.83L4 21.41c.39.39.9.59 1.41.59.51 0 1.02-.2 1.41-.59l7.78-7.78 2.81-2.81c.8-.78.8-2.07 0-2.86zM5.41 20L4 18.59l7.72-7.72 1.47 1.35L5.41 20z\"/>\n",
       "  </svg>\n",
       "      </button>\n",
       "      \n",
       "  <style>\n",
       "    .colab-df-container {\n",
       "      display:flex;\n",
       "      flex-wrap:wrap;\n",
       "      gap: 12px;\n",
       "    }\n",
       "\n",
       "    .colab-df-convert {\n",
       "      background-color: #E8F0FE;\n",
       "      border: none;\n",
       "      border-radius: 50%;\n",
       "      cursor: pointer;\n",
       "      display: none;\n",
       "      fill: #1967D2;\n",
       "      height: 32px;\n",
       "      padding: 0 0 0 0;\n",
       "      width: 32px;\n",
       "    }\n",
       "\n",
       "    .colab-df-convert:hover {\n",
       "      background-color: #E2EBFA;\n",
       "      box-shadow: 0px 1px 2px rgba(60, 64, 67, 0.3), 0px 1px 3px 1px rgba(60, 64, 67, 0.15);\n",
       "      fill: #174EA6;\n",
       "    }\n",
       "\n",
       "    [theme=dark] .colab-df-convert {\n",
       "      background-color: #3B4455;\n",
       "      fill: #D2E3FC;\n",
       "    }\n",
       "\n",
       "    [theme=dark] .colab-df-convert:hover {\n",
       "      background-color: #434B5C;\n",
       "      box-shadow: 0px 1px 3px 1px rgba(0, 0, 0, 0.15);\n",
       "      filter: drop-shadow(0px 1px 2px rgba(0, 0, 0, 0.3));\n",
       "      fill: #FFFFFF;\n",
       "    }\n",
       "  </style>\n",
       "\n",
       "      <script>\n",
       "        const buttonEl =\n",
       "          document.querySelector('#df-660585a0-2f69-4e85-84b5-edcaf46204e7 button.colab-df-convert');\n",
       "        buttonEl.style.display =\n",
       "          google.colab.kernel.accessAllowed ? 'block' : 'none';\n",
       "\n",
       "        async function convertToInteractive(key) {\n",
       "          const element = document.querySelector('#df-660585a0-2f69-4e85-84b5-edcaf46204e7');\n",
       "          const dataTable =\n",
       "            await google.colab.kernel.invokeFunction('convertToInteractive',\n",
       "                                                     [key], {});\n",
       "          if (!dataTable) return;\n",
       "\n",
       "          const docLinkHtml = 'Like what you see? Visit the ' +\n",
       "            '<a target=\"_blank\" href=https://colab.research.google.com/notebooks/data_table.ipynb>data table notebook</a>'\n",
       "            + ' to learn more about interactive tables.';\n",
       "          element.innerHTML = '';\n",
       "          dataTable['output_type'] = 'display_data';\n",
       "          await google.colab.output.renderOutput(dataTable, element);\n",
       "          const docLink = document.createElement('div');\n",
       "          docLink.innerHTML = docLinkHtml;\n",
       "          element.appendChild(docLink);\n",
       "        }\n",
       "      </script>\n",
       "    </div>\n",
       "  </div>\n",
       "  "
      ],
      "text/plain": [
       "                              hashed_factory_id    country  \\\n",
       "0      009f006e3799f9fe96a0c95e944df3e669f02d4e    Vietnam   \n",
       "1      a9f2640fbd054cb52bf9411b7a42f668a9613197    Vietnam   \n",
       "2      c0bffcf0318c483b2dbb1c56bed6efa58f9717bd   Pakistan   \n",
       "3      c96f3f1c47dca83af551893a28c3409cb4afd31d  Guatemala   \n",
       "4      63ffdba896c8bb150eca939d1eb7e3bd4e732ed4   Pakistan   \n",
       "...                                         ...        ...   \n",
       "13288  009f006e3799f9fe96a0c95e944df3e669f02d4e    Vietnam   \n",
       "13289  9213adcfaa233c1bd362eeaaef15269b1f15afe1  Nicaragua   \n",
       "13290  5a06094857c4e9b5bd124cf37a6e7d336bb8edd4   Cambodia   \n",
       "13291  a9f2640fbd054cb52bf9411b7a42f668a9613197    Vietnam   \n",
       "13292  a9f2640fbd054cb52bf9411b7a42f668a9613197    Vietnam   \n",
       "\n",
       "                      hashed_type_of_inspection style_number item_number  \\\n",
       "0      e06d28d1365467625ebfa999328501705a3398bb            1           8   \n",
       "1      e06d28d1365467625ebfa999328501705a3398bb            1           5   \n",
       "2      e06d28d1365467625ebfa999328501705a3398bb            1           8   \n",
       "3      e06d28d1365467625ebfa999328501705a3398bb            2          12   \n",
       "4      e06d28d1365467625ebfa999328501705a3398bb            1           2   \n",
       "...                                         ...          ...         ...   \n",
       "13288  e06d28d1365467625ebfa999328501705a3398bb            1          15   \n",
       "13289  e06d28d1365467625ebfa999328501705a3398bb            1          18   \n",
       "13290  e06d28d1365467625ebfa999328501705a3398bb            3          20   \n",
       "13291  e06d28d1365467625ebfa999328501705a3398bb            9          33   \n",
       "13292  e06d28d1365467625ebfa999328501705a3398bb            9          33   \n",
       "\n",
       "      brand_number  factory_inspection_fail_rate_30  \\\n",
       "0              1.0                         0.000000   \n",
       "1              1.0                         0.000000   \n",
       "2          Unknown                         0.000000   \n",
       "3              1.0                         0.000000   \n",
       "4              1.0                         0.000000   \n",
       "...            ...                              ...   \n",
       "13288          1.0                         0.000000   \n",
       "13289          1.0                         0.015385   \n",
       "13290          1.0                         0.071429   \n",
       "13291          1.0                         0.000000   \n",
       "13292          1.0                         0.000000   \n",
       "\n",
       "       factory_inspection_fail_rate_60  factory_inspection_fail_rate_90  \\\n",
       "0                             0.032258                         0.028571   \n",
       "1                             0.200000                         0.035714   \n",
       "2                             0.000000                         0.000000   \n",
       "3                             0.000000                         0.000000   \n",
       "4                             0.000000                         0.000000   \n",
       "...                                ...                              ...   \n",
       "13288                         0.000000                         0.022222   \n",
       "13289                         0.009174                         0.012195   \n",
       "13290                         0.053571                         0.045977   \n",
       "13291                         0.000000                         0.023529   \n",
       "13292                         0.000000                         0.023529   \n",
       "\n",
       "       factory_inspection_fail_rate_120  ...  \\\n",
       "0                              0.027778  ...   \n",
       "1                              0.020408  ...   \n",
       "2                              0.000000  ...   \n",
       "3                              0.000000  ...   \n",
       "4                              0.100000  ...   \n",
       "...                                 ...  ...   \n",
       "13288                          0.021277  ...   \n",
       "13289                          0.010870  ...   \n",
       "13290                          0.039604  ...   \n",
       "13291                          0.018868  ...   \n",
       "13292                          0.018868  ...   \n",
       "\n",
       "       factory_product_packaging_major_defect_rate_60  \\\n",
       "0                                            0.004545   \n",
       "1                                            0.000000   \n",
       "2                                            0.000444   \n",
       "3                                            0.000000   \n",
       "4                                            0.000000   \n",
       "...                                               ...   \n",
       "13288                                        0.000000   \n",
       "13289                                        0.000000   \n",
       "13290                                        0.000000   \n",
       "13291                                        0.000000   \n",
       "13292                                        0.000000   \n",
       "\n",
       "      factory_product_packaging_major_defect_rate_90  \\\n",
       "0                                           0.004545   \n",
       "1                                           0.000000   \n",
       "2                                           0.000400   \n",
       "3                                           0.000000   \n",
       "4                                           0.000000   \n",
       "...                                              ...   \n",
       "13288                                       0.000000   \n",
       "13289                                       0.000000   \n",
       "13290                                       0.000000   \n",
       "13291                                       0.000000   \n",
       "13292                                       0.000000   \n",
       "\n",
       "      factory_product_packaging_major_defect_rate_120  \\\n",
       "0                                            0.004545   \n",
       "1                                            0.000000   \n",
       "2                                            0.000400   \n",
       "3                                            0.000000   \n",
       "4                                            0.000000   \n",
       "...                                               ...   \n",
       "13288                                        0.000000   \n",
       "13289                                        0.000000   \n",
       "13290                                        0.000000   \n",
       "13291                                        0.000000   \n",
       "13292                                        0.000740   \n",
       "\n",
       "      factory_product_packaging_major_defect_rate_150  \\\n",
       "0                                            0.004545   \n",
       "1                                            0.000000   \n",
       "2                                            0.000400   \n",
       "3                                            0.000000   \n",
       "4                                            0.000000   \n",
       "...                                               ...   \n",
       "13288                                        0.000000   \n",
       "13289                                        0.000000   \n",
       "13290                                        0.000000   \n",
       "13291                                        0.000000   \n",
       "13292                                        0.000740   \n",
       "\n",
       "       factory_product_packaging_minor_defect_rate_30  \\\n",
       "0                                                 0.0   \n",
       "1                                                 0.0   \n",
       "2                                                 0.0   \n",
       "3                                                 0.0   \n",
       "4                                                 0.0   \n",
       "...                                               ...   \n",
       "13288                                             0.0   \n",
       "13289                                             0.0   \n",
       "13290                                             0.0   \n",
       "13291                                             0.0   \n",
       "13292                                             0.0   \n",
       "\n",
       "       factory_product_packaging_minor_defect_rate_60  \\\n",
       "0                                                 0.0   \n",
       "1                                                 0.0   \n",
       "2                                                 0.0   \n",
       "3                                                 0.0   \n",
       "4                                                 0.0   \n",
       "...                                               ...   \n",
       "13288                                             0.0   \n",
       "13289                                             0.0   \n",
       "13290                                             0.0   \n",
       "13291                                             0.0   \n",
       "13292                                             0.0   \n",
       "\n",
       "       factory_product_packaging_minor_defect_rate_90  \\\n",
       "0                                                 0.0   \n",
       "1                                                 0.0   \n",
       "2                                                 0.0   \n",
       "3                                                 0.0   \n",
       "4                                                 0.0   \n",
       "...                                               ...   \n",
       "13288                                             0.0   \n",
       "13289                                             0.0   \n",
       "13290                                             0.0   \n",
       "13291                                             0.0   \n",
       "13292                                             0.0   \n",
       "\n",
       "       factory_product_packaging_minor_defect_rate_120  \\\n",
       "0                                                  0.0   \n",
       "1                                                  0.0   \n",
       "2                                                  0.0   \n",
       "3                                                  0.0   \n",
       "4                                                  0.0   \n",
       "...                                                ...   \n",
       "13288                                              0.0   \n",
       "13289                                              0.0   \n",
       "13290                                              0.0   \n",
       "13291                                              0.0   \n",
       "13292                                              0.0   \n",
       "\n",
       "       factory_product_packaging_minor_defect_rate_150  label  \n",
       "0                                                  0.0      0  \n",
       "1                                                  0.0      0  \n",
       "2                                                  0.0      0  \n",
       "3                                                  0.0      0  \n",
       "4                                                  0.0      0  \n",
       "...                                                ...    ...  \n",
       "13288                                              0.0      0  \n",
       "13289                                              0.0      0  \n",
       "13290                                              0.0      0  \n",
       "13291                                              0.0      0  \n",
       "13292                                              0.0      1  \n",
       "\n",
       "[13293 rows x 115 columns]"
      ]
     },
     "execution_count": 322,
     "metadata": {},
     "output_type": "execute_result"
    }
   ],
   "source": [
    "missing_values = missing_values_table(app_train)\n",
    "missing_values.head(20)\n",
    "app_train"
   ]
  },
  {
   "cell_type": "code",
   "execution_count": 323,
   "metadata": {
    "colab": {
     "base_uri": "https://localhost:8080/",
     "height": 517
    },
    "executionInfo": {
     "elapsed": 13,
     "status": "ok",
     "timestamp": 1649528320551,
     "user": {
      "displayName": "Hung Phan",
      "userId": "08789553643675768816"
     },
     "user_tz": -420
    },
    "id": "7P-ri1trI_eD",
    "outputId": "a044ab41-d480-4f9f-b9df-b94dfb9aef90"
   },
   "outputs": [
    {
     "name": "stdout",
     "output_type": "stream",
     "text": [
      "lected dataframe has 114 columns.\n",
      "There are 0 columns that have missing values.\n"
     ]
    },
    {
     "data": {
      "text/html": [
       "\n",
       "  <div id=\"df-e4c57f1c-e377-439d-bfdf-c526300826c2\">\n",
       "    <div class=\"colab-df-container\">\n",
       "      <div>\n",
       "<style scoped>\n",
       "    .dataframe tbody tr th:only-of-type {\n",
       "        vertical-align: middle;\n",
       "    }\n",
       "\n",
       "    .dataframe tbody tr th {\n",
       "        vertical-align: top;\n",
       "    }\n",
       "\n",
       "    .dataframe thead th {\n",
       "        text-align: right;\n",
       "    }\n",
       "</style>\n",
       "<table border=\"1\" class=\"dataframe\">\n",
       "  <thead>\n",
       "    <tr style=\"text-align: right;\">\n",
       "      <th></th>\n",
       "      <th>hashed_factory_id</th>\n",
       "      <th>country</th>\n",
       "      <th>hashed_type_of_inspection</th>\n",
       "      <th>style_number</th>\n",
       "      <th>item_number</th>\n",
       "      <th>brand_number</th>\n",
       "      <th>factory_inspection_fail_rate_30</th>\n",
       "      <th>factory_inspection_fail_rate_60</th>\n",
       "      <th>factory_inspection_fail_rate_90</th>\n",
       "      <th>factory_inspection_fail_rate_120</th>\n",
       "      <th>...</th>\n",
       "      <th>factory_product_packaging_major_defect_rate_30</th>\n",
       "      <th>factory_product_packaging_major_defect_rate_60</th>\n",
       "      <th>factory_product_packaging_major_defect_rate_90</th>\n",
       "      <th>factory_product_packaging_major_defect_rate_120</th>\n",
       "      <th>factory_product_packaging_major_defect_rate_150</th>\n",
       "      <th>factory_product_packaging_minor_defect_rate_30</th>\n",
       "      <th>factory_product_packaging_minor_defect_rate_60</th>\n",
       "      <th>factory_product_packaging_minor_defect_rate_90</th>\n",
       "      <th>factory_product_packaging_minor_defect_rate_120</th>\n",
       "      <th>factory_product_packaging_minor_defect_rate_150</th>\n",
       "    </tr>\n",
       "  </thead>\n",
       "  <tbody>\n",
       "    <tr>\n",
       "      <th>0</th>\n",
       "      <td>57e6f82ac38828e1c4cc9a6ff415a5ad2fa94507</td>\n",
       "      <td>China</td>\n",
       "      <td>e06d28d1365467625ebfa999328501705a3398bb</td>\n",
       "      <td>1</td>\n",
       "      <td>20</td>\n",
       "      <td>1.0</td>\n",
       "      <td>0.000000</td>\n",
       "      <td>0.000000</td>\n",
       "      <td>0.000000</td>\n",
       "      <td>0.000000</td>\n",
       "      <td>...</td>\n",
       "      <td>0.000000</td>\n",
       "      <td>0.000000</td>\n",
       "      <td>0.000000</td>\n",
       "      <td>0.000000</td>\n",
       "      <td>0.000000</td>\n",
       "      <td>0.0</td>\n",
       "      <td>0.0</td>\n",
       "      <td>0.0</td>\n",
       "      <td>0.0</td>\n",
       "      <td>0.0</td>\n",
       "    </tr>\n",
       "    <tr>\n",
       "      <th>1</th>\n",
       "      <td>67bc0575f067a61d385539a2169c649814accea7</td>\n",
       "      <td>Nicaragua</td>\n",
       "      <td>4a31b54c7b1ada762e54a711dc598073de477352</td>\n",
       "      <td>1</td>\n",
       "      <td>18</td>\n",
       "      <td>1.0</td>\n",
       "      <td>0.031250</td>\n",
       "      <td>0.032258</td>\n",
       "      <td>0.071429</td>\n",
       "      <td>0.070175</td>\n",
       "      <td>...</td>\n",
       "      <td>0.000333</td>\n",
       "      <td>0.000161</td>\n",
       "      <td>0.000094</td>\n",
       "      <td>0.000085</td>\n",
       "      <td>0.000085</td>\n",
       "      <td>0.0</td>\n",
       "      <td>0.0</td>\n",
       "      <td>0.0</td>\n",
       "      <td>0.0</td>\n",
       "      <td>0.0</td>\n",
       "    </tr>\n",
       "    <tr>\n",
       "      <th>2</th>\n",
       "      <td>ab1e388558d6ea7093a4f7912cd1381e2a2962ae</td>\n",
       "      <td>China</td>\n",
       "      <td>e06d28d1365467625ebfa999328501705a3398bb</td>\n",
       "      <td>1</td>\n",
       "      <td>8</td>\n",
       "      <td>1.0</td>\n",
       "      <td>0.000000</td>\n",
       "      <td>0.000000</td>\n",
       "      <td>0.000000</td>\n",
       "      <td>0.000000</td>\n",
       "      <td>...</td>\n",
       "      <td>0.000000</td>\n",
       "      <td>0.000000</td>\n",
       "      <td>0.000000</td>\n",
       "      <td>0.000000</td>\n",
       "      <td>0.000000</td>\n",
       "      <td>0.0</td>\n",
       "      <td>0.0</td>\n",
       "      <td>0.0</td>\n",
       "      <td>0.0</td>\n",
       "      <td>0.0</td>\n",
       "    </tr>\n",
       "    <tr>\n",
       "      <th>3</th>\n",
       "      <td>8e0114f5d7c26b37cec7f58a197a93bbc49e14a6</td>\n",
       "      <td>Vietnam</td>\n",
       "      <td>e06d28d1365467625ebfa999328501705a3398bb</td>\n",
       "      <td>1</td>\n",
       "      <td>10</td>\n",
       "      <td>1.0</td>\n",
       "      <td>0.007407</td>\n",
       "      <td>0.003937</td>\n",
       "      <td>0.002865</td>\n",
       "      <td>0.002331</td>\n",
       "      <td>...</td>\n",
       "      <td>0.000000</td>\n",
       "      <td>0.000000</td>\n",
       "      <td>0.000000</td>\n",
       "      <td>0.000000</td>\n",
       "      <td>0.000000</td>\n",
       "      <td>0.0</td>\n",
       "      <td>0.0</td>\n",
       "      <td>0.0</td>\n",
       "      <td>0.0</td>\n",
       "      <td>0.0</td>\n",
       "    </tr>\n",
       "    <tr>\n",
       "      <th>4</th>\n",
       "      <td>52ef0901f440dc5f007c4f8d79eff436d79da852</td>\n",
       "      <td>Vietnam</td>\n",
       "      <td>e06d28d1365467625ebfa999328501705a3398bb</td>\n",
       "      <td>1</td>\n",
       "      <td>7</td>\n",
       "      <td>1.0</td>\n",
       "      <td>0.000000</td>\n",
       "      <td>0.000000</td>\n",
       "      <td>0.000000</td>\n",
       "      <td>0.000000</td>\n",
       "      <td>...</td>\n",
       "      <td>0.000000</td>\n",
       "      <td>0.000000</td>\n",
       "      <td>0.000000</td>\n",
       "      <td>0.000000</td>\n",
       "      <td>0.000000</td>\n",
       "      <td>0.0</td>\n",
       "      <td>0.0</td>\n",
       "      <td>0.0</td>\n",
       "      <td>0.0</td>\n",
       "      <td>0.0</td>\n",
       "    </tr>\n",
       "    <tr>\n",
       "      <th>...</th>\n",
       "      <td>...</td>\n",
       "      <td>...</td>\n",
       "      <td>...</td>\n",
       "      <td>...</td>\n",
       "      <td>...</td>\n",
       "      <td>...</td>\n",
       "      <td>...</td>\n",
       "      <td>...</td>\n",
       "      <td>...</td>\n",
       "      <td>...</td>\n",
       "      <td>...</td>\n",
       "      <td>...</td>\n",
       "      <td>...</td>\n",
       "      <td>...</td>\n",
       "      <td>...</td>\n",
       "      <td>...</td>\n",
       "      <td>...</td>\n",
       "      <td>...</td>\n",
       "      <td>...</td>\n",
       "      <td>...</td>\n",
       "      <td>...</td>\n",
       "    </tr>\n",
       "    <tr>\n",
       "      <th>4417</th>\n",
       "      <td>b6f1eddfb2a0695fe5d8cd3fdb8f5e5db2d0efc3</td>\n",
       "      <td>Vietnam</td>\n",
       "      <td>e06d28d1365467625ebfa999328501705a3398bb</td>\n",
       "      <td>2</td>\n",
       "      <td>Other3</td>\n",
       "      <td>1.0</td>\n",
       "      <td>0.000000</td>\n",
       "      <td>0.000000</td>\n",
       "      <td>0.000000</td>\n",
       "      <td>0.000000</td>\n",
       "      <td>...</td>\n",
       "      <td>0.000000</td>\n",
       "      <td>0.000000</td>\n",
       "      <td>0.000000</td>\n",
       "      <td>0.000000</td>\n",
       "      <td>0.000000</td>\n",
       "      <td>0.0</td>\n",
       "      <td>0.0</td>\n",
       "      <td>0.0</td>\n",
       "      <td>0.0</td>\n",
       "      <td>0.0</td>\n",
       "    </tr>\n",
       "    <tr>\n",
       "      <th>4418</th>\n",
       "      <td>864a334df4c3602dc835dfba496cde1056374bbd</td>\n",
       "      <td>China</td>\n",
       "      <td>e06d28d1365467625ebfa999328501705a3398bb</td>\n",
       "      <td>1</td>\n",
       "      <td>Other3</td>\n",
       "      <td>1.0</td>\n",
       "      <td>0.000000</td>\n",
       "      <td>0.000000</td>\n",
       "      <td>0.000000</td>\n",
       "      <td>0.009009</td>\n",
       "      <td>...</td>\n",
       "      <td>0.000000</td>\n",
       "      <td>0.000000</td>\n",
       "      <td>0.000000</td>\n",
       "      <td>0.000000</td>\n",
       "      <td>0.000000</td>\n",
       "      <td>0.0</td>\n",
       "      <td>0.0</td>\n",
       "      <td>0.0</td>\n",
       "      <td>0.0</td>\n",
       "      <td>0.0</td>\n",
       "    </tr>\n",
       "    <tr>\n",
       "      <th>4419</th>\n",
       "      <td>cd2bf6a940623a271e2e425d95d7689c2db69e9f</td>\n",
       "      <td>China</td>\n",
       "      <td>e06d28d1365467625ebfa999328501705a3398bb</td>\n",
       "      <td>2</td>\n",
       "      <td>Unknown</td>\n",
       "      <td>1.0</td>\n",
       "      <td>0.055556</td>\n",
       "      <td>0.031250</td>\n",
       "      <td>0.025641</td>\n",
       "      <td>0.020000</td>\n",
       "      <td>...</td>\n",
       "      <td>0.000000</td>\n",
       "      <td>0.000000</td>\n",
       "      <td>0.000000</td>\n",
       "      <td>0.000000</td>\n",
       "      <td>0.000000</td>\n",
       "      <td>0.0</td>\n",
       "      <td>0.0</td>\n",
       "      <td>0.0</td>\n",
       "      <td>0.0</td>\n",
       "      <td>0.0</td>\n",
       "    </tr>\n",
       "    <tr>\n",
       "      <th>4420</th>\n",
       "      <td>cd2bf6a940623a271e2e425d95d7689c2db69e9f</td>\n",
       "      <td>China</td>\n",
       "      <td>e06d28d1365467625ebfa999328501705a3398bb</td>\n",
       "      <td>2</td>\n",
       "      <td>Other3</td>\n",
       "      <td>1.0</td>\n",
       "      <td>0.055556</td>\n",
       "      <td>0.031250</td>\n",
       "      <td>0.025641</td>\n",
       "      <td>0.020000</td>\n",
       "      <td>...</td>\n",
       "      <td>0.000000</td>\n",
       "      <td>0.000000</td>\n",
       "      <td>0.000000</td>\n",
       "      <td>0.000000</td>\n",
       "      <td>0.000000</td>\n",
       "      <td>0.0</td>\n",
       "      <td>0.0</td>\n",
       "      <td>0.0</td>\n",
       "      <td>0.0</td>\n",
       "      <td>0.0</td>\n",
       "    </tr>\n",
       "    <tr>\n",
       "      <th>4421</th>\n",
       "      <td>04a79a31231f7b6878b64f711908ca75925c438c</td>\n",
       "      <td>Vietnam</td>\n",
       "      <td>e06d28d1365467625ebfa999328501705a3398bb</td>\n",
       "      <td>1</td>\n",
       "      <td>Other3</td>\n",
       "      <td>1.0</td>\n",
       "      <td>0.000000</td>\n",
       "      <td>0.000000</td>\n",
       "      <td>0.000000</td>\n",
       "      <td>0.000000</td>\n",
       "      <td>...</td>\n",
       "      <td>0.000000</td>\n",
       "      <td>0.000000</td>\n",
       "      <td>0.000000</td>\n",
       "      <td>0.000000</td>\n",
       "      <td>0.000000</td>\n",
       "      <td>0.0</td>\n",
       "      <td>0.0</td>\n",
       "      <td>0.0</td>\n",
       "      <td>0.0</td>\n",
       "      <td>0.0</td>\n",
       "    </tr>\n",
       "  </tbody>\n",
       "</table>\n",
       "<p>4422 rows × 114 columns</p>\n",
       "</div>\n",
       "      <button class=\"colab-df-convert\" onclick=\"convertToInteractive('df-e4c57f1c-e377-439d-bfdf-c526300826c2')\"\n",
       "              title=\"Convert this dataframe to an interactive table.\"\n",
       "              style=\"display:none;\">\n",
       "        \n",
       "  <svg xmlns=\"http://www.w3.org/2000/svg\" height=\"24px\"viewBox=\"0 0 24 24\"\n",
       "       width=\"24px\">\n",
       "    <path d=\"M0 0h24v24H0V0z\" fill=\"none\"/>\n",
       "    <path d=\"M18.56 5.44l.94 2.06.94-2.06 2.06-.94-2.06-.94-.94-2.06-.94 2.06-2.06.94zm-11 1L8.5 8.5l.94-2.06 2.06-.94-2.06-.94L8.5 2.5l-.94 2.06-2.06.94zm10 10l.94 2.06.94-2.06 2.06-.94-2.06-.94-.94-2.06-.94 2.06-2.06.94z\"/><path d=\"M17.41 7.96l-1.37-1.37c-.4-.4-.92-.59-1.43-.59-.52 0-1.04.2-1.43.59L10.3 9.45l-7.72 7.72c-.78.78-.78 2.05 0 2.83L4 21.41c.39.39.9.59 1.41.59.51 0 1.02-.2 1.41-.59l7.78-7.78 2.81-2.81c.8-.78.8-2.07 0-2.86zM5.41 20L4 18.59l7.72-7.72 1.47 1.35L5.41 20z\"/>\n",
       "  </svg>\n",
       "      </button>\n",
       "      \n",
       "  <style>\n",
       "    .colab-df-container {\n",
       "      display:flex;\n",
       "      flex-wrap:wrap;\n",
       "      gap: 12px;\n",
       "    }\n",
       "\n",
       "    .colab-df-convert {\n",
       "      background-color: #E8F0FE;\n",
       "      border: none;\n",
       "      border-radius: 50%;\n",
       "      cursor: pointer;\n",
       "      display: none;\n",
       "      fill: #1967D2;\n",
       "      height: 32px;\n",
       "      padding: 0 0 0 0;\n",
       "      width: 32px;\n",
       "    }\n",
       "\n",
       "    .colab-df-convert:hover {\n",
       "      background-color: #E2EBFA;\n",
       "      box-shadow: 0px 1px 2px rgba(60, 64, 67, 0.3), 0px 1px 3px 1px rgba(60, 64, 67, 0.15);\n",
       "      fill: #174EA6;\n",
       "    }\n",
       "\n",
       "    [theme=dark] .colab-df-convert {\n",
       "      background-color: #3B4455;\n",
       "      fill: #D2E3FC;\n",
       "    }\n",
       "\n",
       "    [theme=dark] .colab-df-convert:hover {\n",
       "      background-color: #434B5C;\n",
       "      box-shadow: 0px 1px 3px 1px rgba(0, 0, 0, 0.15);\n",
       "      filter: drop-shadow(0px 1px 2px rgba(0, 0, 0, 0.3));\n",
       "      fill: #FFFFFF;\n",
       "    }\n",
       "  </style>\n",
       "\n",
       "      <script>\n",
       "        const buttonEl =\n",
       "          document.querySelector('#df-e4c57f1c-e377-439d-bfdf-c526300826c2 button.colab-df-convert');\n",
       "        buttonEl.style.display =\n",
       "          google.colab.kernel.accessAllowed ? 'block' : 'none';\n",
       "\n",
       "        async function convertToInteractive(key) {\n",
       "          const element = document.querySelector('#df-e4c57f1c-e377-439d-bfdf-c526300826c2');\n",
       "          const dataTable =\n",
       "            await google.colab.kernel.invokeFunction('convertToInteractive',\n",
       "                                                     [key], {});\n",
       "          if (!dataTable) return;\n",
       "\n",
       "          const docLinkHtml = 'Like what you see? Visit the ' +\n",
       "            '<a target=\"_blank\" href=https://colab.research.google.com/notebooks/data_table.ipynb>data table notebook</a>'\n",
       "            + ' to learn more about interactive tables.';\n",
       "          element.innerHTML = '';\n",
       "          dataTable['output_type'] = 'display_data';\n",
       "          await google.colab.output.renderOutput(dataTable, element);\n",
       "          const docLink = document.createElement('div');\n",
       "          docLink.innerHTML = docLinkHtml;\n",
       "          element.appendChild(docLink);\n",
       "        }\n",
       "      </script>\n",
       "    </div>\n",
       "  </div>\n",
       "  "
      ],
      "text/plain": [
       "                             hashed_factory_id    country  \\\n",
       "0     57e6f82ac38828e1c4cc9a6ff415a5ad2fa94507      China   \n",
       "1     67bc0575f067a61d385539a2169c649814accea7  Nicaragua   \n",
       "2     ab1e388558d6ea7093a4f7912cd1381e2a2962ae      China   \n",
       "3     8e0114f5d7c26b37cec7f58a197a93bbc49e14a6    Vietnam   \n",
       "4     52ef0901f440dc5f007c4f8d79eff436d79da852    Vietnam   \n",
       "...                                        ...        ...   \n",
       "4417  b6f1eddfb2a0695fe5d8cd3fdb8f5e5db2d0efc3    Vietnam   \n",
       "4418  864a334df4c3602dc835dfba496cde1056374bbd      China   \n",
       "4419  cd2bf6a940623a271e2e425d95d7689c2db69e9f      China   \n",
       "4420  cd2bf6a940623a271e2e425d95d7689c2db69e9f      China   \n",
       "4421  04a79a31231f7b6878b64f711908ca75925c438c    Vietnam   \n",
       "\n",
       "                     hashed_type_of_inspection style_number item_number  \\\n",
       "0     e06d28d1365467625ebfa999328501705a3398bb            1          20   \n",
       "1     4a31b54c7b1ada762e54a711dc598073de477352            1          18   \n",
       "2     e06d28d1365467625ebfa999328501705a3398bb            1           8   \n",
       "3     e06d28d1365467625ebfa999328501705a3398bb            1          10   \n",
       "4     e06d28d1365467625ebfa999328501705a3398bb            1           7   \n",
       "...                                        ...          ...         ...   \n",
       "4417  e06d28d1365467625ebfa999328501705a3398bb            2      Other3   \n",
       "4418  e06d28d1365467625ebfa999328501705a3398bb            1      Other3   \n",
       "4419  e06d28d1365467625ebfa999328501705a3398bb            2     Unknown   \n",
       "4420  e06d28d1365467625ebfa999328501705a3398bb            2      Other3   \n",
       "4421  e06d28d1365467625ebfa999328501705a3398bb            1      Other3   \n",
       "\n",
       "     brand_number  factory_inspection_fail_rate_30  \\\n",
       "0             1.0                         0.000000   \n",
       "1             1.0                         0.031250   \n",
       "2             1.0                         0.000000   \n",
       "3             1.0                         0.007407   \n",
       "4             1.0                         0.000000   \n",
       "...           ...                              ...   \n",
       "4417          1.0                         0.000000   \n",
       "4418          1.0                         0.000000   \n",
       "4419          1.0                         0.055556   \n",
       "4420          1.0                         0.055556   \n",
       "4421          1.0                         0.000000   \n",
       "\n",
       "      factory_inspection_fail_rate_60  factory_inspection_fail_rate_90  \\\n",
       "0                            0.000000                         0.000000   \n",
       "1                            0.032258                         0.071429   \n",
       "2                            0.000000                         0.000000   \n",
       "3                            0.003937                         0.002865   \n",
       "4                            0.000000                         0.000000   \n",
       "...                               ...                              ...   \n",
       "4417                         0.000000                         0.000000   \n",
       "4418                         0.000000                         0.000000   \n",
       "4419                         0.031250                         0.025641   \n",
       "4420                         0.031250                         0.025641   \n",
       "4421                         0.000000                         0.000000   \n",
       "\n",
       "      factory_inspection_fail_rate_120  ...  \\\n",
       "0                             0.000000  ...   \n",
       "1                             0.070175  ...   \n",
       "2                             0.000000  ...   \n",
       "3                             0.002331  ...   \n",
       "4                             0.000000  ...   \n",
       "...                                ...  ...   \n",
       "4417                          0.000000  ...   \n",
       "4418                          0.009009  ...   \n",
       "4419                          0.020000  ...   \n",
       "4420                          0.020000  ...   \n",
       "4421                          0.000000  ...   \n",
       "\n",
       "      factory_product_packaging_major_defect_rate_30  \\\n",
       "0                                           0.000000   \n",
       "1                                           0.000333   \n",
       "2                                           0.000000   \n",
       "3                                           0.000000   \n",
       "4                                           0.000000   \n",
       "...                                              ...   \n",
       "4417                                        0.000000   \n",
       "4418                                        0.000000   \n",
       "4419                                        0.000000   \n",
       "4420                                        0.000000   \n",
       "4421                                        0.000000   \n",
       "\n",
       "     factory_product_packaging_major_defect_rate_60  \\\n",
       "0                                          0.000000   \n",
       "1                                          0.000161   \n",
       "2                                          0.000000   \n",
       "3                                          0.000000   \n",
       "4                                          0.000000   \n",
       "...                                             ...   \n",
       "4417                                       0.000000   \n",
       "4418                                       0.000000   \n",
       "4419                                       0.000000   \n",
       "4420                                       0.000000   \n",
       "4421                                       0.000000   \n",
       "\n",
       "     factory_product_packaging_major_defect_rate_90  \\\n",
       "0                                          0.000000   \n",
       "1                                          0.000094   \n",
       "2                                          0.000000   \n",
       "3                                          0.000000   \n",
       "4                                          0.000000   \n",
       "...                                             ...   \n",
       "4417                                       0.000000   \n",
       "4418                                       0.000000   \n",
       "4419                                       0.000000   \n",
       "4420                                       0.000000   \n",
       "4421                                       0.000000   \n",
       "\n",
       "     factory_product_packaging_major_defect_rate_120  \\\n",
       "0                                           0.000000   \n",
       "1                                           0.000085   \n",
       "2                                           0.000000   \n",
       "3                                           0.000000   \n",
       "4                                           0.000000   \n",
       "...                                              ...   \n",
       "4417                                        0.000000   \n",
       "4418                                        0.000000   \n",
       "4419                                        0.000000   \n",
       "4420                                        0.000000   \n",
       "4421                                        0.000000   \n",
       "\n",
       "      factory_product_packaging_major_defect_rate_150  \\\n",
       "0                                            0.000000   \n",
       "1                                            0.000085   \n",
       "2                                            0.000000   \n",
       "3                                            0.000000   \n",
       "4                                            0.000000   \n",
       "...                                               ...   \n",
       "4417                                         0.000000   \n",
       "4418                                         0.000000   \n",
       "4419                                         0.000000   \n",
       "4420                                         0.000000   \n",
       "4421                                         0.000000   \n",
       "\n",
       "      factory_product_packaging_minor_defect_rate_30  \\\n",
       "0                                                0.0   \n",
       "1                                                0.0   \n",
       "2                                                0.0   \n",
       "3                                                0.0   \n",
       "4                                                0.0   \n",
       "...                                              ...   \n",
       "4417                                             0.0   \n",
       "4418                                             0.0   \n",
       "4419                                             0.0   \n",
       "4420                                             0.0   \n",
       "4421                                             0.0   \n",
       "\n",
       "      factory_product_packaging_minor_defect_rate_60  \\\n",
       "0                                                0.0   \n",
       "1                                                0.0   \n",
       "2                                                0.0   \n",
       "3                                                0.0   \n",
       "4                                                0.0   \n",
       "...                                              ...   \n",
       "4417                                             0.0   \n",
       "4418                                             0.0   \n",
       "4419                                             0.0   \n",
       "4420                                             0.0   \n",
       "4421                                             0.0   \n",
       "\n",
       "      factory_product_packaging_minor_defect_rate_90  \\\n",
       "0                                                0.0   \n",
       "1                                                0.0   \n",
       "2                                                0.0   \n",
       "3                                                0.0   \n",
       "4                                                0.0   \n",
       "...                                              ...   \n",
       "4417                                             0.0   \n",
       "4418                                             0.0   \n",
       "4419                                             0.0   \n",
       "4420                                             0.0   \n",
       "4421                                             0.0   \n",
       "\n",
       "      factory_product_packaging_minor_defect_rate_120  \\\n",
       "0                                                 0.0   \n",
       "1                                                 0.0   \n",
       "2                                                 0.0   \n",
       "3                                                 0.0   \n",
       "4                                                 0.0   \n",
       "...                                               ...   \n",
       "4417                                              0.0   \n",
       "4418                                              0.0   \n",
       "4419                                              0.0   \n",
       "4420                                              0.0   \n",
       "4421                                              0.0   \n",
       "\n",
       "      factory_product_packaging_minor_defect_rate_150  \n",
       "0                                                 0.0  \n",
       "1                                                 0.0  \n",
       "2                                                 0.0  \n",
       "3                                                 0.0  \n",
       "4                                                 0.0  \n",
       "...                                               ...  \n",
       "4417                                              0.0  \n",
       "4418                                              0.0  \n",
       "4419                                              0.0  \n",
       "4420                                              0.0  \n",
       "4421                                              0.0  \n",
       "\n",
       "[4422 rows x 114 columns]"
      ]
     },
     "execution_count": 323,
     "metadata": {},
     "output_type": "execute_result"
    }
   ],
   "source": [
    "missing_values = missing_values_table(app_test)\n",
    "missing_values.head(20)\n",
    "app_test"
   ]
  },
  {
   "cell_type": "code",
   "execution_count": 324,
   "metadata": {
    "colab": {
     "base_uri": "https://localhost:8080/"
    },
    "executionInfo": {
     "elapsed": 10,
     "status": "ok",
     "timestamp": 1649528320551,
     "user": {
      "displayName": "Hung Phan",
      "userId": "08789553643675768816"
     },
     "user_tz": -420
    },
    "id": "wYVUEygWJAhz",
    "outputId": "9da7ca17-70cd-4545-e82f-80a9d59753c2"
   },
   "outputs": [
    {
     "name": "stdout",
     "output_type": "stream",
     "text": [
      "<class 'pandas.core.frame.DataFrame'>\n",
      "RangeIndex: 13293 entries, 0 to 13292\n",
      "Columns: 115 entries, hashed_factory_id to label\n",
      "dtypes: float64(105), int64(1), object(9)\n",
      "memory usage: 11.7+ MB\n"
     ]
    }
   ],
   "source": [
    "app_train.info()"
   ]
  },
  {
   "cell_type": "code",
   "execution_count": 325,
   "metadata": {
    "colab": {
     "base_uri": "https://localhost:8080/"
    },
    "executionInfo": {
     "elapsed": 430,
     "status": "ok",
     "timestamp": 1649528320973,
     "user": {
      "displayName": "Hung Phan",
      "userId": "08789553643675768816"
     },
     "user_tz": -420
    },
    "id": "NEX8vJHyJCbM",
    "outputId": "c4575d2e-c050-42d4-d90b-5368ad282429"
   },
   "outputs": [
    {
     "name": "stdout",
     "output_type": "stream",
     "text": [
      "<class 'pandas.core.frame.DataFrame'>\n",
      "RangeIndex: 4422 entries, 0 to 4421\n",
      "Columns: 114 entries, hashed_factory_id to factory_product_packaging_minor_defect_rate_150\n",
      "dtypes: float64(105), object(9)\n",
      "memory usage: 3.8+ MB\n"
     ]
    }
   ],
   "source": [
    "app_test.info()"
   ]
  },
  {
   "cell_type": "code",
   "execution_count": 326,
   "metadata": {
    "colab": {
     "base_uri": "https://localhost:8080/"
    },
    "executionInfo": {
     "elapsed": 20,
     "status": "ok",
     "timestamp": 1649528320974,
     "user": {
      "displayName": "Hung Phan",
      "userId": "08789553643675768816"
     },
     "user_tz": -420
    },
    "id": "rWLFecM-JECB",
    "outputId": "6c8ddff5-4591-4755-aca2-adb288ae336d"
   },
   "outputs": [
    {
     "data": {
      "text/plain": [
       "hashed_factory_id            266\n",
       "country                       16\n",
       "hashed_type_of_inspection      7\n",
       "style_number                  13\n",
       "item_number                   80\n",
       "brand_number                   5\n",
       "hashed_product_line            4\n",
       "hashed_product_category       35\n",
       "hashed_product_id            103\n",
       "dtype: int64"
      ]
     },
     "execution_count": 326,
     "metadata": {},
     "output_type": "execute_result"
    }
   ],
   "source": [
    "app_train.select_dtypes('object').apply(pd.Series.nunique, axis = 0)\n",
    "app_test.select_dtypes('object').apply(pd.Series.nunique, axis = 0)\n"
   ]
  },
  {
   "cell_type": "markdown",
   "metadata": {
    "id": "fSFgrAkfk25T"
   },
   "source": [
    "## Remove the correlated features"
   ]
  },
  {
   "cell_type": "code",
   "execution_count": 327,
   "metadata": {
    "colab": {
     "base_uri": "https://localhost:8080/"
    },
    "executionInfo": {
     "elapsed": 923,
     "status": "ok",
     "timestamp": 1649528321881,
     "user": {
      "displayName": "Hung Phan",
      "userId": "08789553643675768816"
     },
     "user_tz": -420
    },
    "id": "r0FLrdECJFCl",
    "outputId": "7b4f7b07-c910-44ce-b10d-e109af633a6b"
   },
   "outputs": [
    {
     "name": "stdout",
     "output_type": "stream",
     "text": [
      "training shape (13293, 46)\n",
      "testing shape (4422, 45)\n"
     ]
    },
    {
     "name": "stderr",
     "output_type": "stream",
     "text": [
      "/usr/local/lib/python3.7/dist-packages/ipykernel_launcher.py:5: DeprecationWarning: `np.bool` is a deprecated alias for the builtin `bool`. To silence this warning, use `bool` by itself. Doing this will not modify any behavior and is safe. If you specifically wanted the numpy scalar type, use `np.bool_` here.\n",
      "Deprecated in NumPy 1.20; for more details and guidance: https://numpy.org/devdocs/release/1.20.0-notes.html#deprecations\n",
      "  \"\"\"\n"
     ]
    }
   ],
   "source": [
    "# Create correlation matrix\n",
    "corr_matrix = app_train.corr().abs()\n",
    "\n",
    "# Select upper triangle of correlation matrix\n",
    "upper = corr_matrix.where(np.triu(np.ones(corr_matrix.shape), k=1).astype(np.bool))\n",
    "\n",
    "# Find features with correlation greater than 0.95\n",
    "to_drop = [column for column in upper.columns if any(upper[column] > 0.95)]\n",
    "\n",
    "# Drop features \n",
    "app_train.drop(to_drop, axis=1, inplace=True)\n",
    "app_test.drop(to_drop, axis=1, inplace=True)\n",
    "print(\"training shape\", app_train.shape)\n",
    "print(\"testing shape\", app_test.shape)\n"
   ]
  },
  {
   "cell_type": "code",
   "execution_count": 328,
   "metadata": {
    "colab": {
     "base_uri": "https://localhost:8080/"
    },
    "executionInfo": {
     "elapsed": 9,
     "status": "ok",
     "timestamp": 1649528321882,
     "user": {
      "displayName": "Hung Phan",
      "userId": "08789553643675768816"
     },
     "user_tz": -420
    },
    "id": "_j0kMFzfJGLd",
    "outputId": "33fdd58e-cc36-47cd-bdd6-81b691d55abe"
   },
   "outputs": [
    {
     "name": "stdout",
     "output_type": "stream",
     "text": [
      "training shape (13293, 45)\n"
     ]
    }
   ],
   "source": [
    "labels =  app_train['label']\n",
    "app_train = app_train.drop('label', axis=1)\n",
    "print(\"training shape\", app_train.shape)\n"
   ]
  },
  {
   "cell_type": "markdown",
   "metadata": {
    "id": "TG_IOb3NfZQg"
   },
   "source": [
    "# Using Categorical Data with One Hot Encoding\n"
   ]
  },
  {
   "cell_type": "code",
   "execution_count": 329,
   "metadata": {
    "colab": {
     "base_uri": "https://localhost:8080/"
    },
    "executionInfo": {
     "elapsed": 573,
     "status": "ok",
     "timestamp": 1649528322452,
     "user": {
      "displayName": "Hung Phan",
      "userId": "08789553643675768816"
     },
     "user_tz": -420
    },
    "id": "ihGpsiIPJHlG",
    "outputId": "56eb994d-6f12-4f35-f23f-6819d75243fd"
   },
   "outputs": [
    {
     "name": "stdout",
     "output_type": "stream",
     "text": [
      "(13293, 648)\n",
      "(4422, 648)\n"
     ]
    }
   ],
   "source": [
    "\n",
    "object_cols = app_train.select_dtypes(include = \"object\").columns.to_list()\n",
    "OH_encoder = OneHotEncoder(handle_unknown='ignore', sparse=False)\n",
    "OH_cols_train = pd.DataFrame(OH_encoder.fit_transform(app_train[object_cols]))\n",
    "# OH_cols_test = pd.DataFrame(OH_encoder.transform(app_test[object_cols].astype(str)))\n",
    "OH_cols_test = pd.DataFrame(OH_encoder.transform(app_test[object_cols]))\n",
    "# One-hot encoding removed index; put it back\n",
    "OH_cols_train.index = app_train.index\n",
    "OH_cols_test.index = app_test.index\n",
    "# Remove categorical columns (will replace with one-hot encoding)\n",
    "num_X_train = app_train.drop(object_cols, axis=1)\n",
    "num_X_test = app_test.drop(object_cols, axis=1)\n",
    "# Add one-hot encoded columns to numerical features\n",
    "OH_X_train = pd.concat([num_X_train, OH_cols_train], axis=1)\n",
    "OH_X_test = pd.concat([num_X_test, OH_cols_test], axis=1)\n",
    "data = OH_X_train\n",
    "app_test = OH_X_test\n",
    "print(data.shape)\n",
    "print(app_test.shape)"
   ]
  },
  {
   "cell_type": "markdown",
   "metadata": {
    "id": "i3lUWWUhf3XR"
   },
   "source": [
    "# Transform data\n"
   ]
  },
  {
   "cell_type": "code",
   "execution_count": 330,
   "metadata": {
    "colab": {
     "base_uri": "https://localhost:8080/"
    },
    "executionInfo": {
     "elapsed": 6,
     "status": "ok",
     "timestamp": 1649528322453,
     "user": {
      "displayName": "Hung Phan",
      "userId": "08789553643675768816"
     },
     "user_tz": -420
    },
    "id": "qNR5T1-MJIhB",
    "outputId": "3e88c2a5-d805-457a-c606-764e99b3b3fe"
   },
   "outputs": [
    {
     "name": "stdout",
     "output_type": "stream",
     "text": [
      "Training data shape:  (13293, 648)\n",
      "Testing data shape:  (4422, 648)\n"
     ]
    },
    {
     "data": {
      "text/plain": [
       "array([[0.        , 0.03225806, 0.02857143, ..., 0.        , 0.        ,\n",
       "        0.        ],\n",
       "       [0.        , 0.2       , 0.03571429, ..., 0.        , 0.        ,\n",
       "        0.        ],\n",
       "       [0.        , 0.        , 0.        , ..., 0.        , 0.        ,\n",
       "        0.        ],\n",
       "       ...,\n",
       "       [0.07142857, 0.05357143, 0.04597701, ..., 0.        , 0.        ,\n",
       "        1.        ],\n",
       "       [0.        , 0.        , 0.02352941, ..., 0.        , 0.        ,\n",
       "        0.        ],\n",
       "       [0.        , 0.        , 0.02352941, ..., 0.        , 0.        ,\n",
       "        0.        ]])"
      ]
     },
     "execution_count": 330,
     "metadata": {},
     "output_type": "execute_result"
    }
   ],
   "source": [
    "features = list(data.columns)\n",
    "# imputer = SimpleImputer(strategy = 'median')\n",
    "# Imputation transformer for completing missing values. \n",
    "imputer = SimpleImputer(missing_values=np.nan, strategy='mean')\n",
    "# Min-Max Scaler: xi–min(x)/max(x)–min(x)\n",
    "scaler = MinMaxScaler(feature_range = (0, 1))\n",
    "imputer.fit(data)\n",
    "data = imputer.transform(data)\n",
    "app_test = imputer.transform(app_test)\n",
    "scaler.fit(data)\n",
    "data = scaler.transform(data)\n",
    "app_test = scaler.transform(app_test)\n",
    "print('Training data shape: ', data.shape)\n",
    "print('Testing data shape: ', app_test.shape)\n",
    "data"
   ]
  },
  {
   "cell_type": "code",
   "execution_count": 331,
   "metadata": {
    "executionInfo": {
     "elapsed": 332,
     "status": "ok",
     "timestamp": 1649528322782,
     "user": {
      "displayName": "Hung Phan",
      "userId": "08789553643675768816"
     },
     "user_tz": -420
    },
    "id": "b1rlqGzOJJz0"
   },
   "outputs": [],
   "source": [
    "X_train, X_val, y_train, y_val = train_test_split(data, labels, test_size=0.2, random_state=11)"
   ]
  },
  {
   "cell_type": "code",
   "execution_count": 332,
   "metadata": {
    "executionInfo": {
     "elapsed": 23,
     "status": "ok",
     "timestamp": 1649528322783,
     "user": {
      "displayName": "Hung Phan",
      "userId": "08789553643675768816"
     },
     "user_tz": -420
    },
    "id": "mOsfol57JLe3"
   },
   "outputs": [],
   "source": [
    "import numpy as np\n",
    "import pandas as pd\n",
    "import seaborn as sns\n",
    "import matplotlib.pyplot as plt\n",
    "\n",
    "import torch\n",
    "import torch.nn as nn\n",
    "import torch.optim as optim\n",
    "from torch.utils.data import Dataset, DataLoader\n",
    "\n",
    "from sklearn.preprocessing import StandardScaler    \n",
    "from sklearn.model_selection import train_test_split\n",
    "from sklearn.metrics import confusion_matrix, classification_report"
   ]
  },
  {
   "cell_type": "markdown",
   "metadata": {
    "id": "LZj5gcCehG_f"
   },
   "source": [
    "# Define data loader for training and validation"
   ]
  },
  {
   "cell_type": "code",
   "execution_count": 333,
   "metadata": {
    "executionInfo": {
     "elapsed": 22,
     "status": "ok",
     "timestamp": 1649528322784,
     "user": {
      "displayName": "Hung Phan",
      "userId": "08789553643675768816"
     },
     "user_tz": -420
    },
    "id": "sMSCcKNCJQ-q"
   },
   "outputs": [],
   "source": [
    "EPOCHS = 25\n",
    "BATCH_SIZE = 64\n",
    "LEARNING_RATE = 0.0005\n",
    "class TrainData(Dataset):\n",
    "    \n",
    "    def __init__(self, X_data, y_data):\n",
    "        self.X_data = X_data\n",
    "        self.y_data = y_data\n",
    "        \n",
    "    def __getitem__(self, index):\n",
    "        return self.X_data[index], self.y_data[index]\n",
    "        \n",
    "    def __len__ (self):\n",
    "        return len(self.X_data)\n",
    "\n",
    "\n",
    "train_data = TrainData(torch.FloatTensor(X_train), \n",
    "                       torch.FloatTensor(y_train.astype(int)))\n",
    "val_data = TrainData(torch.FloatTensor(X_val), \n",
    "                       torch.FloatTensor(y_val.values.astype(int)))\n"
   ]
  },
  {
   "cell_type": "code",
   "execution_count": 334,
   "metadata": {
    "executionInfo": {
     "elapsed": 22,
     "status": "ok",
     "timestamp": 1649528322785,
     "user": {
      "displayName": "Hung Phan",
      "userId": "08789553643675768816"
     },
     "user_tz": -420
    },
    "id": "ng3NbXDeJUAy"
   },
   "outputs": [],
   "source": [
    "class TestData(Dataset):\n",
    "    \n",
    "    def __init__(self, X_data):\n",
    "        self.X_data = X_data\n",
    "        \n",
    "    def __getitem__(self, index):\n",
    "        return self.X_data[index]\n",
    "        \n",
    "    def __len__ (self):\n",
    "        return len(self.X_data)\n",
    "    \n",
    "\n",
    "test_data = TestData(torch.FloatTensor(app_test))"
   ]
  },
  {
   "cell_type": "code",
   "execution_count": 335,
   "metadata": {
    "executionInfo": {
     "elapsed": 22,
     "status": "ok",
     "timestamp": 1649528322787,
     "user": {
      "displayName": "Hung Phan",
      "userId": "08789553643675768816"
     },
     "user_tz": -420
    },
    "id": "L0MyNyJHJVht"
   },
   "outputs": [],
   "source": [
    "train_loader = DataLoader(dataset=train_data, batch_size=BATCH_SIZE, shuffle=True)\n",
    "val_loader = DataLoader(dataset=val_data, batch_size=1, shuffle=True)\n",
    "test_loader = DataLoader(dataset=test_data, batch_size=1)"
   ]
  },
  {
   "cell_type": "markdown",
   "metadata": {
    "id": "vggKyXn9hbs2"
   },
   "source": [
    "# ANN model design"
   ]
  },
  {
   "cell_type": "code",
   "execution_count": 336,
   "metadata": {
    "executionInfo": {
     "elapsed": 22,
     "status": "ok",
     "timestamp": 1649528322788,
     "user": {
      "displayName": "Hung Phan",
      "userId": "08789553643675768816"
     },
     "user_tz": -420
    },
    "id": "ssW7fxHSJW8F"
   },
   "outputs": [],
   "source": [
    "class BinaryClassification(nn.Module):\n",
    "    def __init__(self):\n",
    "        super(BinaryClassification, self).__init__()\n",
    "        # Number of input features is 12.\n",
    "        self.layer_1 = nn.Linear(648, 128) \n",
    "        self.layer_2 = nn.Linear(128, 64)\n",
    "        self.layer_out = nn.Linear(64, 1) \n",
    "        \n",
    "        self.relu = nn.ReLU()\n",
    "        self.dropout = nn.Dropout(p=0.3)\n",
    "        self.dropout1 = nn.Dropout(p=0.3)\n",
    "        self.batchnorm1 = nn.BatchNorm1d(128)\n",
    "        self.batchnorm2 = nn.BatchNorm1d(64)\n",
    "        \n",
    "    def forward(self, inputs):\n",
    "        x = self.relu(self.layer_1(inputs))\n",
    "        x = self.batchnorm1(x)\n",
    "        x = self.dropout1(x)\n",
    "        x = self.relu(self.layer_2(x))\n",
    "        x = self.batchnorm2(x)\n",
    "        x = self.dropout(x)\n",
    "        x = self.layer_out(x)\n",
    "#         x = F.sigmoid(x)\n",
    "        return x"
   ]
  },
  {
   "cell_type": "markdown",
   "metadata": {
    "id": "d4SbNXZRhm23"
   },
   "source": [
    "# Loss function and optimizer"
   ]
  },
  {
   "cell_type": "code",
   "execution_count": 337,
   "metadata": {
    "colab": {
     "base_uri": "https://localhost:8080/"
    },
    "executionInfo": {
     "elapsed": 21,
     "status": "ok",
     "timestamp": 1649528322789,
     "user": {
      "displayName": "Hung Phan",
      "userId": "08789553643675768816"
     },
     "user_tz": -420
    },
    "id": "uKYALPDEJYAS",
    "outputId": "ee7b6213-ae32-46b9-c30a-df8c1ae0e0c2"
   },
   "outputs": [
    {
     "name": "stdout",
     "output_type": "stream",
     "text": [
      "BinaryClassification(\n",
      "  (layer_1): Linear(in_features=648, out_features=128, bias=True)\n",
      "  (layer_2): Linear(in_features=128, out_features=64, bias=True)\n",
      "  (layer_out): Linear(in_features=64, out_features=1, bias=True)\n",
      "  (relu): ReLU()\n",
      "  (dropout): Dropout(p=0.3, inplace=False)\n",
      "  (dropout1): Dropout(p=0.3, inplace=False)\n",
      "  (batchnorm1): BatchNorm1d(128, eps=1e-05, momentum=0.1, affine=True, track_running_stats=True)\n",
      "  (batchnorm2): BatchNorm1d(64, eps=1e-05, momentum=0.1, affine=True, track_running_stats=True)\n",
      ")\n"
     ]
    }
   ],
   "source": [
    "device = torch.device(\"cuda:0\" if torch.cuda.is_available() else \"cpu\")\n",
    "model = BinaryClassification()\n",
    "model.to(device)\n",
    "print(model)\n",
    "criterion = nn.BCEWithLogitsLoss()\n",
    "# criterion = F1_Loss().cuda()\n",
    "# criterion = nn.CrossEntropyLoss()\n",
    "\n",
    "optimizer = optim.Adam(model.parameters(), lr=LEARNING_RATE)"
   ]
  },
  {
   "cell_type": "code",
   "execution_count": 338,
   "metadata": {
    "executionInfo": {
     "elapsed": 428,
     "status": "ok",
     "timestamp": 1649528323200,
     "user": {
      "displayName": "Hung Phan",
      "userId": "08789553643675768816"
     },
     "user_tz": -420
    },
    "id": "Ln2K1x5HJaF6"
   },
   "outputs": [],
   "source": [
    "def binary_acc(y_pred, y_test):\n",
    "    y_pred_tag = torch.round(torch.sigmoid(y_pred))\n",
    "\n",
    "    correct_results_sum = (y_pred_tag == y_test).sum().float()\n",
    "    acc = correct_results_sum/y_test.shape[0]\n",
    "    acc = torch.round(acc * 100)\n",
    "    \n",
    "    return acc"
   ]
  },
  {
   "cell_type": "markdown",
   "metadata": {
    "id": "Ip9TqLWFhu3L"
   },
   "source": [
    "# Training step and evaluation to choose the best model"
   ]
  },
  {
   "cell_type": "code",
   "execution_count": 339,
   "metadata": {
    "colab": {
     "base_uri": "https://localhost:8080/"
    },
    "executionInfo": {
     "elapsed": 89632,
     "status": "ok",
     "timestamp": 1649528412826,
     "user": {
      "displayName": "Hung Phan",
      "userId": "08789553643675768816"
     },
     "user_tz": -420
    },
    "id": "ughSG8GRJeeX",
    "outputId": "95495773-8c86-4419-9730-4b67c2dc7783"
   },
   "outputs": [
    {
     "name": "stderr",
     "output_type": "stream",
     "text": [
      "/usr/local/lib/python3.7/dist-packages/ipykernel_launcher.py:36: RuntimeWarning: invalid value encountered in true_divide\n"
     ]
    },
    {
     "name": "stdout",
     "output_type": "stream",
     "text": [
      "threshold:  0.47187093 Best_fscore: 0.23781676413255362\n",
      "current fscore 0.23781676413255362, best fscore 0\n",
      "              precision    recall  f1-score   support\n",
      "\n",
      "         0.0       0.96      0.88      0.92      2513\n",
      "         1.0       0.17      0.42      0.24       146\n",
      "\n",
      "    accuracy                           0.85      2659\n",
      "   macro avg       0.56      0.65      0.58      2659\n",
      "weighted avg       0.92      0.85      0.88      2659\n",
      "\n",
      "Save model here\n",
      "Epoch 001: | Loss: 0.65087 | Acc: 63.563\n"
     ]
    },
    {
     "name": "stderr",
     "output_type": "stream",
     "text": [
      "/usr/local/lib/python3.7/dist-packages/ipykernel_launcher.py:36: RuntimeWarning: invalid value encountered in true_divide\n"
     ]
    },
    {
     "name": "stdout",
     "output_type": "stream",
     "text": [
      "threshold:  0.28835505 Best_fscore: 0.21016949152542372\n",
      "current fscore 0.21016949152542372, best fscore 0.23781676413255362\n",
      "              precision    recall  f1-score   support\n",
      "\n",
      "         0.0       0.96      0.85      0.90      2513\n",
      "         1.0       0.14      0.42      0.21       146\n",
      "\n",
      "    accuracy                           0.82      2659\n",
      "   macro avg       0.55      0.64      0.56      2659\n",
      "weighted avg       0.92      0.82      0.86      2659\n",
      "\n",
      "Epoch 002: | Loss: 0.44430 | Acc: 86.473\n"
     ]
    },
    {
     "name": "stderr",
     "output_type": "stream",
     "text": [
      "/usr/local/lib/python3.7/dist-packages/ipykernel_launcher.py:36: RuntimeWarning: invalid value encountered in true_divide\n"
     ]
    },
    {
     "name": "stdout",
     "output_type": "stream",
     "text": [
      "threshold:  0.22869271 Best_fscore: 0.2565597667638484\n",
      "current fscore 0.2565597667638484, best fscore 0.23781676413255362\n",
      "              precision    recall  f1-score   support\n",
      "\n",
      "         0.0       0.96      0.94      0.95      2513\n",
      "         1.0       0.22      0.30      0.26       146\n",
      "\n",
      "    accuracy                           0.90      2659\n",
      "   macro avg       0.59      0.62      0.60      2659\n",
      "weighted avg       0.92      0.90      0.91      2659\n",
      "\n",
      "Save model here\n",
      "Epoch 003: | Loss: 0.26857 | Acc: 93.509\n",
      "threshold:  0.20510823 Best_fscore: 0.28461538461538466\n",
      "current fscore 0.28461538461538466, best fscore 0.2565597667638484\n",
      "              precision    recall  f1-score   support\n",
      "\n",
      "         0.0       0.96      0.97      0.96      2513\n",
      "         1.0       0.32      0.25      0.28       146\n",
      "\n",
      "    accuracy                           0.93      2659\n",
      "   macro avg       0.64      0.61      0.62      2659\n",
      "weighted avg       0.92      0.93      0.93      2659\n",
      "\n",
      "Save model here\n",
      "Epoch 004: | Loss: 0.19800 | Acc: 94.563\n"
     ]
    },
    {
     "name": "stderr",
     "output_type": "stream",
     "text": [
      "/usr/local/lib/python3.7/dist-packages/ipykernel_launcher.py:36: RuntimeWarning: invalid value encountered in true_divide\n"
     ]
    },
    {
     "name": "stdout",
     "output_type": "stream",
     "text": [
      "threshold:  0.116003215 Best_fscore: 0.25136612021857924\n",
      "current fscore 0.25136612021857924, best fscore 0.28461538461538466\n",
      "              precision    recall  f1-score   support\n",
      "\n",
      "         0.0       0.96      0.93      0.94      2513\n",
      "         1.0       0.21      0.32      0.25       146\n",
      "\n",
      "    accuracy                           0.90      2659\n",
      "   macro avg       0.58      0.62      0.60      2659\n",
      "weighted avg       0.92      0.90      0.91      2659\n",
      "\n",
      "Epoch 005: | Loss: 0.16857 | Acc: 94.886\n"
     ]
    },
    {
     "name": "stderr",
     "output_type": "stream",
     "text": [
      "/usr/local/lib/python3.7/dist-packages/ipykernel_launcher.py:36: RuntimeWarning: invalid value encountered in true_divide\n"
     ]
    },
    {
     "name": "stdout",
     "output_type": "stream",
     "text": [
      "threshold:  0.17307179 Best_fscore: 0.2765273311897106\n",
      "current fscore 0.2765273311897106, best fscore 0.28461538461538466\n",
      "              precision    recall  f1-score   support\n",
      "\n",
      "         0.0       0.96      0.95      0.96      2513\n",
      "         1.0       0.26      0.29      0.28       146\n",
      "\n",
      "    accuracy                           0.92      2659\n",
      "   macro avg       0.61      0.62      0.62      2659\n",
      "weighted avg       0.92      0.92      0.92      2659\n",
      "\n",
      "Epoch 006: | Loss: 0.15690 | Acc: 94.904\n",
      "threshold:  0.10229925 Best_fscore: 0.28776978417266186\n",
      "current fscore 0.28776978417266186, best fscore 0.28461538461538466\n",
      "              precision    recall  f1-score   support\n",
      "\n",
      "         0.0       0.96      0.92      0.94      2513\n",
      "         1.0       0.22      0.41      0.29       146\n",
      "\n",
      "    accuracy                           0.89      2659\n",
      "   macro avg       0.59      0.66      0.61      2659\n",
      "weighted avg       0.92      0.89      0.90      2659\n",
      "\n",
      "Save model here\n",
      "Epoch 007: | Loss: 0.13883 | Acc: 95.521\n",
      "threshold:  0.09839939 Best_fscore: 0.2571428571428572\n",
      "current fscore 0.2571428571428572, best fscore 0.28776978417266186\n",
      "              precision    recall  f1-score   support\n",
      "\n",
      "         0.0       0.96      0.91      0.94      2513\n",
      "         1.0       0.20      0.37      0.26       146\n",
      "\n",
      "    accuracy                           0.88      2659\n",
      "   macro avg       0.58      0.64      0.60      2659\n",
      "weighted avg       0.92      0.88      0.90      2659\n",
      "\n",
      "Epoch 008: | Loss: 0.13541 | Acc: 95.299\n",
      "threshold:  0.10146387 Best_fscore: 0.2463768115942029\n",
      "current fscore 0.2463768115942029, best fscore 0.28776978417266186\n",
      "              precision    recall  f1-score   support\n",
      "\n",
      "         0.0       0.96      0.91      0.94      2513\n",
      "         1.0       0.19      0.35      0.25       146\n",
      "\n",
      "    accuracy                           0.88      2659\n",
      "   macro avg       0.58      0.63      0.59      2659\n",
      "weighted avg       0.92      0.88      0.90      2659\n",
      "\n",
      "Epoch 009: | Loss: 0.13005 | Acc: 95.461\n",
      "threshold:  0.099080645 Best_fscore: 0.29444444444444445\n",
      "current fscore 0.29444444444444445, best fscore 0.28776978417266186\n",
      "              precision    recall  f1-score   support\n",
      "\n",
      "         0.0       0.96      0.94      0.95      2513\n",
      "         1.0       0.25      0.36      0.29       146\n",
      "\n",
      "    accuracy                           0.90      2659\n",
      "   macro avg       0.60      0.65      0.62      2659\n",
      "weighted avg       0.92      0.90      0.91      2659\n",
      "\n",
      "Save model here\n",
      "Epoch 010: | Loss: 0.12017 | Acc: 95.749\n",
      "threshold:  0.0927797 Best_fscore: 0.2570694087403599\n",
      "current fscore 0.2570694087403599, best fscore 0.29444444444444445\n",
      "              precision    recall  f1-score   support\n",
      "\n",
      "         0.0       0.96      0.92      0.94      2513\n",
      "         1.0       0.21      0.34      0.26       146\n",
      "\n",
      "    accuracy                           0.89      2659\n",
      "   macro avg       0.58      0.63      0.60      2659\n",
      "weighted avg       0.92      0.89      0.90      2659\n",
      "\n",
      "Epoch 011: | Loss: 0.11625 | Acc: 95.743\n",
      "threshold:  0.0729675 Best_fscore: 0.26382978723404255\n",
      "current fscore 0.26382978723404255, best fscore 0.29444444444444445\n",
      "              precision    recall  f1-score   support\n",
      "\n",
      "         0.0       0.96      0.90      0.93      2513\n",
      "         1.0       0.19      0.42      0.26       146\n",
      "\n",
      "    accuracy                           0.87      2659\n",
      "   macro avg       0.58      0.66      0.60      2659\n",
      "weighted avg       0.92      0.87      0.89      2659\n",
      "\n",
      "Epoch 012: | Loss: 0.11375 | Acc: 95.838\n",
      "threshold:  0.04286089 Best_fscore: 0.24179620034542312\n",
      "current fscore 0.24179620034542312, best fscore 0.29444444444444445\n",
      "              precision    recall  f1-score   support\n",
      "\n",
      "         0.0       0.97      0.86      0.91      2513\n",
      "         1.0       0.16      0.48      0.24       146\n",
      "\n",
      "    accuracy                           0.83      2659\n",
      "   macro avg       0.56      0.67      0.57      2659\n",
      "weighted avg       0.92      0.83      0.87      2659\n",
      "\n",
      "Epoch 013: | Loss: 0.10547 | Acc: 96.024\n"
     ]
    },
    {
     "name": "stderr",
     "output_type": "stream",
     "text": [
      "/usr/local/lib/python3.7/dist-packages/ipykernel_launcher.py:36: RuntimeWarning: invalid value encountered in true_divide\n"
     ]
    },
    {
     "name": "stdout",
     "output_type": "stream",
     "text": [
      "threshold:  0.05226486 Best_fscore: 0.25995807127882603\n",
      "current fscore 0.25995807127882603, best fscore 0.29444444444444445\n",
      "              precision    recall  f1-score   support\n",
      "\n",
      "         0.0       0.96      0.89      0.93      2513\n",
      "         1.0       0.19      0.42      0.26       146\n",
      "\n",
      "    accuracy                           0.87      2659\n",
      "   macro avg       0.58      0.66      0.59      2659\n",
      "weighted avg       0.92      0.87      0.89      2659\n",
      "\n",
      "Epoch 014: | Loss: 0.10647 | Acc: 95.790\n",
      "threshold:  0.07718736 Best_fscore: 0.2577777777777778\n",
      "current fscore 0.2577777777777778, best fscore 0.29444444444444445\n",
      "              precision    recall  f1-score   support\n",
      "\n",
      "         0.0       0.96      0.90      0.93      2513\n",
      "         1.0       0.19      0.40      0.26       146\n",
      "\n",
      "    accuracy                           0.87      2659\n",
      "   macro avg       0.58      0.65      0.59      2659\n",
      "weighted avg       0.92      0.87      0.89      2659\n",
      "\n",
      "Epoch 015: | Loss: 0.09897 | Acc: 96.186\n",
      "threshold:  0.05542715 Best_fscore: 0.2389937106918239\n",
      "current fscore 0.2389937106918239, best fscore 0.29444444444444445\n",
      "              precision    recall  f1-score   support\n",
      "\n",
      "         0.0       0.96      0.89      0.93      2513\n",
      "         1.0       0.17      0.39      0.24       146\n",
      "\n",
      "    accuracy                           0.86      2659\n",
      "   macro avg       0.57      0.64      0.58      2659\n",
      "weighted avg       0.92      0.86      0.89      2659\n",
      "\n",
      "Epoch 016: | Loss: 0.09640 | Acc: 96.365\n",
      "threshold:  0.22272627 Best_fscore: 0.25418060200668896\n",
      "current fscore 0.25418060200668896, best fscore 0.29444444444444445\n",
      "              precision    recall  f1-score   support\n",
      "\n",
      "         0.0       0.96      0.95      0.96      2513\n",
      "         1.0       0.25      0.26      0.25       146\n",
      "\n",
      "    accuracy                           0.92      2659\n",
      "   macro avg       0.60      0.61      0.60      2659\n",
      "weighted avg       0.92      0.92      0.92      2659\n",
      "\n",
      "Epoch 017: | Loss: 0.09664 | Acc: 96.222\n",
      "threshold:  0.10073286 Best_fscore: 0.24102564102564103\n",
      "current fscore 0.24102564102564103, best fscore 0.29444444444444445\n",
      "              precision    recall  f1-score   support\n",
      "\n",
      "         0.0       0.96      0.92      0.94      2513\n",
      "         1.0       0.19      0.32      0.24       146\n",
      "\n",
      "    accuracy                           0.89      2659\n",
      "   macro avg       0.58      0.62      0.59      2659\n",
      "weighted avg       0.92      0.89      0.90      2659\n",
      "\n",
      "Epoch 018: | Loss: 0.08879 | Acc: 96.689\n",
      "threshold:  0.077759966 Best_fscore: 0.24186046511627907\n",
      "current fscore 0.24186046511627907, best fscore 0.29444444444444445\n",
      "              precision    recall  f1-score   support\n",
      "\n",
      "         0.0       0.96      0.91      0.93      2513\n",
      "         1.0       0.18      0.36      0.24       146\n",
      "\n",
      "    accuracy                           0.88      2659\n",
      "   macro avg       0.57      0.63      0.59      2659\n",
      "weighted avg       0.92      0.88      0.90      2659\n",
      "\n",
      "Epoch 019: | Loss: 0.08553 | Acc: 96.796\n",
      "threshold:  0.05866122 Best_fscore: 0.24311926605504586\n",
      "current fscore 0.24311926605504586, best fscore 0.29444444444444445\n",
      "              precision    recall  f1-score   support\n",
      "\n",
      "         0.0       0.96      0.91      0.93      2513\n",
      "         1.0       0.18      0.36      0.24       146\n",
      "\n",
      "    accuracy                           0.88      2659\n",
      "   macro avg       0.57      0.63      0.59      2659\n",
      "weighted avg       0.92      0.88      0.89      2659\n",
      "\n",
      "Epoch 020: | Loss: 0.08510 | Acc: 96.683\n",
      "threshold:  0.044392172 Best_fscore: 0.2446601941747573\n",
      "current fscore 0.2446601941747573, best fscore 0.29444444444444445\n",
      "              precision    recall  f1-score   support\n",
      "\n",
      "         0.0       0.96      0.88      0.92      2513\n",
      "         1.0       0.17      0.43      0.24       146\n",
      "\n",
      "    accuracy                           0.85      2659\n",
      "   macro avg       0.57      0.65      0.58      2659\n",
      "weighted avg       0.92      0.85      0.88      2659\n",
      "\n",
      "Epoch 021: | Loss: 0.08163 | Acc: 96.904\n",
      "threshold:  0.06626373 Best_fscore: 0.2562929061784897\n",
      "current fscore 0.2562929061784897, best fscore 0.29444444444444445\n",
      "              precision    recall  f1-score   support\n",
      "\n",
      "         0.0       0.96      0.91      0.93      2513\n",
      "         1.0       0.19      0.38      0.26       146\n",
      "\n",
      "    accuracy                           0.88      2659\n",
      "   macro avg       0.58      0.65      0.59      2659\n",
      "weighted avg       0.92      0.88      0.90      2659\n",
      "\n",
      "Epoch 022: | Loss: 0.07885 | Acc: 96.802\n"
     ]
    },
    {
     "name": "stderr",
     "output_type": "stream",
     "text": [
      "/usr/local/lib/python3.7/dist-packages/ipykernel_launcher.py:36: RuntimeWarning: invalid value encountered in true_divide\n"
     ]
    },
    {
     "name": "stdout",
     "output_type": "stream",
     "text": [
      "threshold:  0.057407815 Best_fscore: 0.24215246636771298\n",
      "current fscore 0.24215246636771298, best fscore 0.29444444444444445\n",
      "              precision    recall  f1-score   support\n",
      "\n",
      "         0.0       0.96      0.90      0.93      2513\n",
      "         1.0       0.18      0.37      0.24       146\n",
      "\n",
      "    accuracy                           0.87      2659\n",
      "   macro avg       0.57      0.64      0.59      2659\n",
      "weighted avg       0.92      0.87      0.89      2659\n",
      "\n",
      "Epoch 023: | Loss: 0.07373 | Acc: 97.090\n"
     ]
    },
    {
     "name": "stderr",
     "output_type": "stream",
     "text": [
      "/usr/local/lib/python3.7/dist-packages/ipykernel_launcher.py:36: RuntimeWarning: invalid value encountered in true_divide\n"
     ]
    },
    {
     "name": "stdout",
     "output_type": "stream",
     "text": [
      "threshold:  0.04173395 Best_fscore: 0.24489795918367346\n",
      "current fscore 0.24489795918367346, best fscore 0.29444444444444445\n",
      "              precision    recall  f1-score   support\n",
      "\n",
      "         0.0       0.96      0.89      0.92      2513\n",
      "         1.0       0.17      0.41      0.24       146\n",
      "\n",
      "    accuracy                           0.86      2659\n",
      "   macro avg       0.57      0.65      0.58      2659\n",
      "weighted avg       0.92      0.86      0.89      2659\n",
      "\n",
      "Epoch 024: | Loss: 0.07296 | Acc: 97.168\n",
      "threshold:  0.039950095 Best_fscore: 0.24430641821946167\n",
      "current fscore 0.24430641821946167, best fscore 0.29444444444444445\n",
      "              precision    recall  f1-score   support\n",
      "\n",
      "         0.0       0.96      0.89      0.92      2513\n",
      "         1.0       0.18      0.40      0.24       146\n",
      "\n",
      "    accuracy                           0.86      2659\n",
      "   macro avg       0.57      0.65      0.58      2659\n",
      "weighted avg       0.92      0.86      0.89      2659\n",
      "\n",
      "Epoch 025: | Loss: 0.07372 | Acc: 96.952\n"
     ]
    }
   ],
   "source": [
    "\n",
    "\n",
    "import numpy as np \n",
    "def sigmoid(x):\n",
    "    return 1/(1 + np.exp(-x))\n",
    "\n",
    "from sklearn.metrics import f1_score\n",
    "model.train()\n",
    "best_f1 = 0\n",
    "for e in range(1, EPOCHS+1):\n",
    "    epoch_loss = 0\n",
    "    epoch_acc = 0\n",
    "    for X_batch, y_batch in train_loader:\n",
    "        X_batch, y_batch = X_batch.to(device), y_batch.to(device)\n",
    "        optimizer.zero_grad()\n",
    "        y_pred = model(X_batch)\n",
    "        loss = criterion(y_pred, y_batch.unsqueeze(1))\n",
    "        acc = binary_acc(y_pred, y_batch.unsqueeze(1))\n",
    "        loss.backward()\n",
    "        optimizer.step()\n",
    "        epoch_loss += loss.item()\n",
    "        epoch_acc += acc.item()\n",
    "    model.eval()\n",
    "    list_grouth_truth = []\n",
    "    list_pred = []\n",
    "    for data, target in val_loader:\n",
    "        data, target = data.to(device), target.to(device)\n",
    "        # data, target = data, target.to(device)\n",
    "        list_grouth_truth.append(target.cpu().detach().numpy()[0])\n",
    "        output = model(data)\n",
    "        y_test_pred = torch.sigmoid(output)\n",
    "        list_pred.append(y_test_pred.cpu().detach().numpy()[0][0])\n",
    "#         acc = binary_acc(y_pred, y_batch.unsqueeze(1))\n",
    "        \n",
    "    precision, recall, thresholds = precision_recall_curve(list_grouth_truth, list_pred)\n",
    "    fscore = (2 * precision * recall) / (precision + recall)\n",
    "    ix = -1\n",
    "    max_score = 0\n",
    "    for idx, score in enumerate(fscore):\n",
    "        if score > max_score:\n",
    "            max_score = score\n",
    "            ix = idx\n",
    "    print('threshold: ', thresholds[ix], 'Best_fscore:',fscore[ix])\n",
    "    print('current fscore {}, best fscore {}'.format(fscore[ix], best_f1) )\n",
    "\n",
    "    temp = copy.deepcopy(np.array(list_pred))\n",
    "    temp[temp>=float(thresholds[ix])] = 1\n",
    "    temp[temp<thresholds[ix]] = 0\n",
    "    print(classification_report(list_grouth_truth, temp))\n",
    "\n",
    "    if fscore[ix] > best_f1:\n",
    "        best_f1 = fscore[ix]\n",
    "        print('Save model here')\n",
    "        torch.save(model.state_dict(), PATH +'/save_model/best_ann.pt')\n",
    "    model.train()\n",
    "    print(f'Epoch {e+0:03}: | Loss: {epoch_loss/len(train_loader):.5f} | Acc: {epoch_acc/len(train_loader):.3f}')"
   ]
  },
  {
   "cell_type": "markdown",
   "metadata": {
    "id": "UGFec1XlhtgC"
   },
   "source": [
    "# Loading the best model, evaluation, and save to CSV file"
   ]
  },
  {
   "cell_type": "code",
   "execution_count": 340,
   "metadata": {
    "executionInfo": {
     "elapsed": 1989,
     "status": "ok",
     "timestamp": 1649528414802,
     "user": {
      "displayName": "Hung Phan",
      "userId": "08789553643675768816"
     },
     "user_tz": -420
    },
    "id": "cnXTc9FwJhEL"
   },
   "outputs": [],
   "source": [
    "model = BinaryClassification()\n",
    "model.load_state_dict(torch.load(PATH + '/save_model/best_ann.pt', map_location=\"cuda:0\"))  # Choose whatever GPU device number you want\n",
    "model.to(device)\n",
    "y_pred_list = []\n",
    "y_ground_truth = []\n",
    "model.eval()\n",
    "with torch.no_grad():\n",
    "    for X_batch, y_batch in val_loader:\n",
    "        X_batch, y_batch = X_batch.to(device), y_batch.to(device)\n",
    "        y_ground_truth.append(y_batch.cpu().detach().numpy()[0])\n",
    "        y_test_pred = model(X_batch)\n",
    "        y_test_pred = torch.sigmoid(y_test_pred)\n",
    "        y_pred_list.append(y_test_pred.cpu().numpy()[0][0])\n",
    "        \n"
   ]
  },
  {
   "cell_type": "code",
   "execution_count": 341,
   "metadata": {
    "colab": {
     "base_uri": "https://localhost:8080/"
    },
    "executionInfo": {
     "elapsed": 6,
     "status": "ok",
     "timestamp": 1649528414802,
     "user": {
      "displayName": "Hung Phan",
      "userId": "08789553643675768816"
     },
     "user_tz": -420
    },
    "id": "jHk9UaPvMBPs",
    "outputId": "0fbb6af2-d7f5-4686-a30f-dd6cba3f0ee6"
   },
   "outputs": [
    {
     "name": "stdout",
     "output_type": "stream",
     "text": [
      "threshold:  0.099080645 Best_fscore: 0.29444444444444445\n",
      "              precision    recall  f1-score   support\n",
      "\n",
      "         0.0       0.96      0.94      0.95      2513\n",
      "         1.0       0.25      0.36      0.29       146\n",
      "\n",
      "    accuracy                           0.90      2659\n",
      "   macro avg       0.60      0.65      0.62      2659\n",
      "weighted avg       0.92      0.90      0.91      2659\n",
      "\n"
     ]
    }
   ],
   "source": [
    "precision, recall, thresholds = precision_recall_curve(y_ground_truth, y_pred_list)\n",
    "fscore = (2 * precision * recall) / (precision + recall)\n",
    "\n",
    "ix = -1\n",
    "max_score = 0\n",
    "for idx, score in enumerate(fscore):\n",
    "    if score > max_score:\n",
    "        max_score = score\n",
    "        ix = idx\n",
    "print('threshold: ', thresholds[ix], 'Best_fscore:',fscore[ix])\n",
    "temp = copy.deepcopy(np.array(y_pred_list))\n",
    "temp[temp>=float(thresholds[ix])] = 1\n",
    "temp[temp<thresholds[ix]] = 0\n",
    "print(classification_report(y_ground_truth, temp))"
   ]
  },
  {
   "cell_type": "code",
   "execution_count": 342,
   "metadata": {
    "executionInfo": {
     "elapsed": 3118,
     "status": "ok",
     "timestamp": 1649528417918,
     "user": {
      "displayName": "Hung Phan",
      "userId": "08789553643675768816"
     },
     "user_tz": -420
    },
    "id": "5f9MYpJCMOon"
   },
   "outputs": [],
   "source": [
    "y_pred_list = []\n",
    "with torch.no_grad():\n",
    "    for X_batch in app_test:\n",
    "        X_batch = torch.from_numpy(X_batch).to(device)\n",
    "        X_batch = X_batch.unsqueeze(0)\n",
    "        y_test_pred = model(X_batch.float())\n",
    "        y_test_pred = torch.sigmoid(y_test_pred)\n",
    "        y_pred_list.append(y_test_pred.cpu().numpy()[0][0])\n",
    "        \n"
   ]
  },
  {
   "cell_type": "code",
   "execution_count": 343,
   "metadata": {
    "executionInfo": {
     "elapsed": 5,
     "status": "ok",
     "timestamp": 1649528417919,
     "user": {
      "displayName": "Hung Phan",
      "userId": "08789553643675768816"
     },
     "user_tz": -420
    },
    "id": "otpoWmPAMSYy"
   },
   "outputs": [],
   "source": [
    "temp = copy.deepcopy(np.array(y_pred_list))\n",
    "temp[temp>=float(thresholds[ix])] = 1\n",
    "temp[temp<thresholds[ix]] = 0"
   ]
  },
  {
   "cell_type": "code",
   "execution_count": 344,
   "metadata": {
    "executionInfo": {
     "elapsed": 773,
     "status": "ok",
     "timestamp": 1649528418688,
     "user": {
      "displayName": "Hung Phan",
      "userId": "08789553643675768816"
     },
     "user_tz": -420
    },
    "id": "Qq7RKVcPMTcC"
   },
   "outputs": [],
   "source": [
    "submit = original_test\n",
    "submit['TARGET'] = temp\n",
    "submit.to_csv(PATH + '/ANN_Pytorch' + '.csv', index = False)"
   ]
  },
  {
   "cell_type": "code",
   "execution_count": 345,
   "metadata": {
    "colab": {
     "base_uri": "https://localhost:8080/",
     "height": 316
    },
    "executionInfo": {
     "elapsed": 12,
     "status": "ok",
     "timestamp": 1649528418689,
     "user": {
      "displayName": "Hung Phan",
      "userId": "08789553643675768816"
     },
     "user_tz": -420
    },
    "id": "PRMqEAwpMXex",
    "outputId": "14274e50-fe94-4f90-8040-1bc1fa15a194"
   },
   "outputs": [
    {
     "data": {
      "text/plain": [
       "0.0    4032\n",
       "1.0     390\n",
       "Name: TARGET, dtype: int64"
      ]
     },
     "execution_count": 345,
     "metadata": {},
     "output_type": "execute_result"
    },
    {
     "data": {
      "image/png": "[encoded data removed]",
      "text/plain": [
       "<Figure size 432x288 with 1 Axes>"
      ]
     },
     "metadata": {
      "needs_background": "light"
     },
     "output_type": "display_data"
    }
   ],
   "source": [
    "submit['TARGET'].astype(int).plot.hist();\n",
    "submit['TARGET'].value_counts()"
   ]
  },
  {
   "cell_type": "code",
   "execution_count": 345,
   "metadata": {
    "executionInfo": {
     "elapsed": 7,
     "status": "ok",
     "timestamp": 1649528418690,
     "user": {
      "displayName": "Hung Phan",
      "userId": "08789553643675768816"
     },
     "user_tz": -420
    },
    "id": "0rALX_TYMYoN"
   },
   "outputs": [],
   "source": []
  }
 ],
 "metadata": {
  "accelerator": "GPU",
  "colab": {
   "authorship_tag": "ABX9TyMNsT96hhrid6xVoCxtNqUr",
   "collapsed_sections": [],
   "name": "ANN_pytorch.ipynb",
   "provenance": []
  },
  "kernelspec": {
   "display_name": "Python 3",
   "language": "python",
   "name": "python3"
  },
  "language_info": {
   "codemirror_mode": {
    "name": "ipython",
    "version": 3
   },
   "file_extension": ".py",
   "mimetype": "text/x-python",
   "name": "python",
   "nbconvert_exporter": "python",
   "pygments_lexer": "ipython3",
   "version": "3.8.5"
  }
 },
 "nbformat": 4,
 "nbformat_minor": 1
}
